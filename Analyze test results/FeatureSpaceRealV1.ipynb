{
 "cells": [
  {
   "cell_type": "code",
   "execution_count": 1,
   "id": "b7ca5c7e-1829-4134-a76c-cf6aacc426b8",
   "metadata": {},
   "outputs": [],
   "source": [
    "'''\n",
    "    import section\n",
    "'''\n",
    "import pandas as pd\n",
    "import seaborn as sns\n",
    "import matplotlib.pyplot as plt"
   ]
  },
  {
   "cell_type": "code",
   "execution_count": null,
   "id": "96093ae8-6f28-4b0e-97a6-eb74037c78d5",
   "metadata": {},
   "outputs": [],
   "source": [
    "'''\n",
    "    data exploration section\n",
    "'''"
   ]
  },
  {
   "cell_type": "code",
   "execution_count": 2,
   "id": "4be80c42-c20a-49a3-84c5-4eaf6ddf0856",
   "metadata": {},
   "outputs": [
    {
     "data": {
      "text/html": [
       "<div>\n",
       "<style scoped>\n",
       "    .dataframe tbody tr th:only-of-type {\n",
       "        vertical-align: middle;\n",
       "    }\n",
       "\n",
       "    .dataframe tbody tr th {\n",
       "        vertical-align: top;\n",
       "    }\n",
       "\n",
       "    .dataframe thead th {\n",
       "        text-align: right;\n",
       "    }\n",
       "</style>\n",
       "<table border=\"1\" class=\"dataframe\">\n",
       "  <thead>\n",
       "    <tr style=\"text-align: right;\">\n",
       "      <th></th>\n",
       "      <th>account</th>\n",
       "      <th>date</th>\n",
       "      <th>fraud</th>\n",
       "      <th>merchant</th>\n",
       "    </tr>\n",
       "  </thead>\n",
       "  <tbody>\n",
       "    <tr>\n",
       "      <th>0</th>\n",
       "      <td>A0</td>\n",
       "      <td>2015-01-01</td>\n",
       "      <td>False</td>\n",
       "      <td>M98</td>\n",
       "    </tr>\n",
       "    <tr>\n",
       "      <th>1</th>\n",
       "      <td>A0</td>\n",
       "      <td>2015-01-01</td>\n",
       "      <td>False</td>\n",
       "      <td>M50</td>\n",
       "    </tr>\n",
       "    <tr>\n",
       "      <th>2</th>\n",
       "      <td>A0</td>\n",
       "      <td>2015-01-01</td>\n",
       "      <td>False</td>\n",
       "      <td>M55</td>\n",
       "    </tr>\n",
       "    <tr>\n",
       "      <th>3</th>\n",
       "      <td>A0</td>\n",
       "      <td>2015-01-01</td>\n",
       "      <td>False</td>\n",
       "      <td>M14</td>\n",
       "    </tr>\n",
       "    <tr>\n",
       "      <th>4</th>\n",
       "      <td>A0</td>\n",
       "      <td>2015-01-01</td>\n",
       "      <td>False</td>\n",
       "      <td>M10</td>\n",
       "    </tr>\n",
       "    <tr>\n",
       "      <th>5</th>\n",
       "      <td>A0</td>\n",
       "      <td>2015-01-01</td>\n",
       "      <td>False</td>\n",
       "      <td>M33</td>\n",
       "    </tr>\n",
       "    <tr>\n",
       "      <th>6</th>\n",
       "      <td>A0</td>\n",
       "      <td>2015-01-01</td>\n",
       "      <td>False</td>\n",
       "      <td>M82</td>\n",
       "    </tr>\n",
       "    <tr>\n",
       "      <th>7</th>\n",
       "      <td>A1</td>\n",
       "      <td>2015-01-01</td>\n",
       "      <td>False</td>\n",
       "      <td>M42</td>\n",
       "    </tr>\n",
       "    <tr>\n",
       "      <th>8</th>\n",
       "      <td>A1</td>\n",
       "      <td>2015-01-01</td>\n",
       "      <td>False</td>\n",
       "      <td>M98</td>\n",
       "    </tr>\n",
       "    <tr>\n",
       "      <th>9</th>\n",
       "      <td>A1</td>\n",
       "      <td>2015-01-01</td>\n",
       "      <td>False</td>\n",
       "      <td>M22</td>\n",
       "    </tr>\n",
       "  </tbody>\n",
       "</table>\n",
       "</div>"
      ],
      "text/plain": [
       "  account        date  fraud merchant\n",
       "0      A0  2015-01-01  False      M98\n",
       "1      A0  2015-01-01  False      M50\n",
       "2      A0  2015-01-01  False      M55\n",
       "3      A0  2015-01-01  False      M14\n",
       "4      A0  2015-01-01  False      M10\n",
       "5      A0  2015-01-01  False      M33\n",
       "6      A0  2015-01-01  False      M82\n",
       "7      A1  2015-01-01  False      M42\n",
       "8      A1  2015-01-01  False      M98\n",
       "9      A1  2015-01-01  False      M22"
      ]
     },
     "execution_count": 2,
     "metadata": {},
     "output_type": "execute_result"
    }
   ],
   "source": [
    "# import csv file and display some rows\n",
    "data = pd.read_csv('C:\\\\Users\\\\Saeth\\\\Downloads\\\\Data_Science_Task_22\\\\PreInterviewTaskData.csv')\n",
    "data[:10]"
   ]
  },
  {
   "cell_type": "code",
   "execution_count": 3,
   "id": "4cba02fe-9714-4c1b-b649-8fd3c201e6dd",
   "metadata": {},
   "outputs": [
    {
     "data": {
      "text/plain": [
       "array(['2015-01-01', '2015-01-02', '2015-01-03', '2015-01-04',\n",
       "       '2015-01-05', '2015-01-06', '2015-01-07', '2015-01-08',\n",
       "       '2015-01-09', '2015-01-10', '2015-01-11', '2015-01-12',\n",
       "       '2015-01-13', '2015-01-14', '2015-01-15', '2015-01-16',\n",
       "       '2015-01-17', '2015-01-18', '2015-01-19', '2015-01-20',\n",
       "       '2015-01-21', '2015-01-22', '2015-01-23', '2015-01-24',\n",
       "       '2015-01-25', '2015-01-26', '2015-01-27', '2015-01-28',\n",
       "       '2015-01-29', '2015-01-30'], dtype=object)"
      ]
     },
     "execution_count": 3,
     "metadata": {},
     "output_type": "execute_result"
    }
   ],
   "source": [
    "# see all 30 days\n",
    "data['date'].unique()"
   ]
  },
  {
   "cell_type": "code",
   "execution_count": null,
   "id": "9bacd021-fffe-4e21-9ce5-cf07a3c6ee82",
   "metadata": {},
   "outputs": [],
   "source": [
    "# note\n",
    "# date = string of year-month-day; year = 2015, month = 01, and day = [1,2,3,...,30]"
   ]
  },
  {
   "cell_type": "code",
   "execution_count": 4,
   "id": "049b27b8-9e99-4554-8ca0-c5ca261579d3",
   "metadata": {},
   "outputs": [
    {
     "data": {
      "text/html": [
       "<div>\n",
       "<style scoped>\n",
       "    .dataframe tbody tr th:only-of-type {\n",
       "        vertical-align: middle;\n",
       "    }\n",
       "\n",
       "    .dataframe tbody tr th {\n",
       "        vertical-align: top;\n",
       "    }\n",
       "\n",
       "    .dataframe thead th {\n",
       "        text-align: right;\n",
       "    }\n",
       "</style>\n",
       "<table border=\"1\" class=\"dataframe\">\n",
       "  <thead>\n",
       "    <tr style=\"text-align: right;\">\n",
       "      <th></th>\n",
       "      <th>account</th>\n",
       "      <th>date</th>\n",
       "      <th>fraud</th>\n",
       "      <th>merchant</th>\n",
       "    </tr>\n",
       "  </thead>\n",
       "  <tbody>\n",
       "    <tr>\n",
       "      <th>count</th>\n",
       "      <td>89851</td>\n",
       "      <td>89851</td>\n",
       "      <td>89851</td>\n",
       "      <td>89851</td>\n",
       "    </tr>\n",
       "    <tr>\n",
       "      <th>unique</th>\n",
       "      <td>1000</td>\n",
       "      <td>30</td>\n",
       "      <td>2</td>\n",
       "      <td>100</td>\n",
       "    </tr>\n",
       "    <tr>\n",
       "      <th>top</th>\n",
       "      <td>A831</td>\n",
       "      <td>2015-01-12</td>\n",
       "      <td>False</td>\n",
       "      <td>M8</td>\n",
       "    </tr>\n",
       "    <tr>\n",
       "      <th>freq</th>\n",
       "      <td>121</td>\n",
       "      <td>3081</td>\n",
       "      <td>88503</td>\n",
       "      <td>998</td>\n",
       "    </tr>\n",
       "  </tbody>\n",
       "</table>\n",
       "</div>"
      ],
      "text/plain": [
       "       account        date  fraud merchant\n",
       "count    89851       89851  89851    89851\n",
       "unique    1000          30      2      100\n",
       "top       A831  2015-01-12  False       M8\n",
       "freq       121        3081  88503      998"
      ]
     },
     "execution_count": 4,
     "metadata": {},
     "output_type": "execute_result"
    }
   ],
   "source": [
    "# overall statistic of the dataset\n",
    "data.describe()"
   ]
  },
  {
   "cell_type": "code",
   "execution_count": 5,
   "id": "0f1dccb7-02ad-435e-9a9f-aa8bd4ee9943",
   "metadata": {},
   "outputs": [
    {
     "data": {
      "text/plain": [
       "[]"
      ]
     },
     "execution_count": 5,
     "metadata": {},
     "output_type": "execute_result"
    }
   ],
   "source": [
    "# find columns that contain null value\n",
    "data.columns[data.isna().any()].tolist()"
   ]
  },
  {
   "cell_type": "code",
   "execution_count": null,
   "id": "a0b0b5b5-48dd-4704-8a05-b6e47091e7a2",
   "metadata": {},
   "outputs": [],
   "source": [
    "# note: no null values in the dataset"
   ]
  },
  {
   "cell_type": "code",
   "execution_count": null,
   "id": "00abb99e-9564-448c-91cb-905eb6b82e6a",
   "metadata": {},
   "outputs": [],
   "source": [
    "'''\n",
    "    data visulization section\n",
    "'''"
   ]
  },
  {
   "cell_type": "code",
   "execution_count": 6,
   "id": "42b7626d-99cd-4b38-bf30-860ff43fd05b",
   "metadata": {},
   "outputs": [
    {
     "data": {
      "text/plain": [
       "<AxesSubplot:title={'center':'Fraud = True plot'}, xlabel='Time', ylabel='Events'>"
      ]
     },
     "execution_count": 6,
     "metadata": {},
     "output_type": "execute_result"
    },
    {
     "data": {
      "image/png": "[encoded data removed]",
      "text/plain": [
       "<Figure size 1152x432 with 1 Axes>"
      ]
     },
     "metadata": {
      "needs_background": "light"
     },
     "output_type": "display_data"
    }
   ],
   "source": [
    "# plot fraud = True to see what days is the peak of the fraud\n",
    "\n",
    "T = data[data['fraud'] == True]  # select rows that have fraud = True\n",
    "T_rec = dict()  # a dictionary to record days and the fraudulent accounts on each day \n",
    "for i in range(1, 31):  # iterate days from 1 to 30\n",
    "    # define the string of the day\n",
    "    if i<10:\n",
    "        g = '0' + str(i)  # add '0' in front of the day\n",
    "    else:\n",
    "        g = str(i)\n",
    "    T_rec[i] = list(T[T['date'].isin(['2015-01-'+ g])]['account'])  # store key(day) and its value(fraudulent accounts)\n",
    "keys = list(T_rec.keys())  # list of keys(days from 1 to 30)\n",
    "vals = [len(T_rec[k]) for k in keys]  # frequency of the accounts in each day\n",
    "\n",
    "# plot graph\n",
    "plt.figure(figsize=(16,6))  # define figure size\n",
    "plt.title(\"Fraud = True plot\")  # define title\n",
    "plt.xlabel(\"Time\")  # define x label\n",
    "plt.ylabel(\"Events\")  # define y label\n",
    "sns.barplot(x=keys, y=vals)  # bar plot"
   ]
  },
  {
   "cell_type": "code",
   "execution_count": null,
   "id": "8863d952-fe70-4751-b9c7-dc3abe6993d2",
   "metadata": {},
   "outputs": [],
   "source": [
    "# note\n",
    "# 1. It can be clearly seen that days 21, 22, and 23 have the most frequency of the fraud.\n",
    "# 2. So, the exploit period is most likely to happen in this time (21, 22, and 23)\n",
    "#    compare to another period which are likely to be opportunistic fraud.\n",
    "\n",
    "# Assumptoin: opportunistic fraud happends randomly each day campare to the common point of compromise fraud\n",
    "#             which happends in the specific time frame."
   ]
  },
  {
   "cell_type": "code",
   "execution_count": 7,
   "id": "18810448-8cb5-49e2-8180-3c52b7449827",
   "metadata": {},
   "outputs": [
    {
     "data": {
      "text/plain": [
       "{'A425': 15,\n",
       " 'A746': 15,\n",
       " 'A781': 14,\n",
       " 'A896': 14,\n",
       " 'A841': 13,\n",
       " 'A8': 11,\n",
       " 'A154': 11,\n",
       " 'A728': 11,\n",
       " 'A817': 11,\n",
       " 'A167': 10,\n",
       " 'A299': 10,\n",
       " 'A541': 10,\n",
       " 'A556': 10,\n",
       " 'A704': 10,\n",
       " 'A802': 10,\n",
       " 'A952': 10,\n",
       " 'A111': 9,\n",
       " 'A334': 9,\n",
       " 'A355': 9,\n",
       " 'A731': 9,\n",
       " 'A787': 9,\n",
       " 'A793': 9,\n",
       " 'A825': 9,\n",
       " 'A37': 8,\n",
       " 'A203': 8,\n",
       " 'A403': 8,\n",
       " 'A420': 8,\n",
       " 'A430': 8,\n",
       " 'A551': 8,\n",
       " 'A603': 8,\n",
       " 'A645': 8,\n",
       " 'A743': 8,\n",
       " 'A837': 8,\n",
       " 'A116': 7,\n",
       " 'A119': 7,\n",
       " 'A581': 7,\n",
       " 'A648': 7,\n",
       " 'A699': 7,\n",
       " 'A991': 7,\n",
       " 'A665': 7,\n",
       " 'A809': 7,\n",
       " 'A882': 7,\n",
       " 'A40': 6,\n",
       " 'A395': 6,\n",
       " 'A434': 6,\n",
       " 'A461': 6,\n",
       " 'A907': 6,\n",
       " 'A943': 6,\n",
       " 'A951': 6,\n",
       " 'A349': 5,\n",
       " 'A701': 5,\n",
       " 'A921': 5,\n",
       " 'A336': 4,\n",
       " 'A57': 2,\n",
       " 'A157': 2,\n",
       " 'A353': 2,\n",
       " 'A381': 2,\n",
       " 'A16': 1,\n",
       " 'A32': 1,\n",
       " 'A148': 1,\n",
       " 'A250': 1,\n",
       " 'A273': 1,\n",
       " 'A283': 1,\n",
       " 'A284': 1,\n",
       " 'A391': 1,\n",
       " 'A392': 1,\n",
       " 'A397': 1,\n",
       " 'A444': 1,\n",
       " 'A458': 1,\n",
       " 'A468': 1,\n",
       " 'A480': 1,\n",
       " 'A490': 1,\n",
       " 'A494': 1,\n",
       " 'A517': 1,\n",
       " 'A615': 1,\n",
       " 'A634': 1,\n",
       " 'A697': 1,\n",
       " 'A720': 1,\n",
       " 'A723': 1,\n",
       " 'A786': 1,\n",
       " 'A836': 1,\n",
       " 'A930': 1,\n",
       " 'A973': 1,\n",
       " 'A987': 1,\n",
       " 'A6': 1,\n",
       " 'A86': 1,\n",
       " 'A92': 1,\n",
       " 'A139': 1,\n",
       " 'A145': 1,\n",
       " 'A200': 1,\n",
       " 'A210': 1,\n",
       " 'A215': 1,\n",
       " 'A238': 1,\n",
       " 'A270': 1,\n",
       " 'A291': 1,\n",
       " 'A308': 1,\n",
       " 'A324': 1,\n",
       " 'A379': 1,\n",
       " 'A437': 1,\n",
       " 'A443': 1,\n",
       " 'A485': 1,\n",
       " 'A493': 1,\n",
       " 'A560': 1,\n",
       " 'A568': 1,\n",
       " 'A590': 1,\n",
       " 'A655': 1,\n",
       " 'A657': 1,\n",
       " 'A682': 1,\n",
       " 'A702': 1,\n",
       " 'A824': 1,\n",
       " 'A834': 1,\n",
       " 'A838': 1,\n",
       " 'A861': 1,\n",
       " 'A874': 1,\n",
       " 'A893': 1,\n",
       " 'A902': 1,\n",
       " 'A914': 1,\n",
       " 'A923': 1,\n",
       " 'A937': 1,\n",
       " 'A69': 1,\n",
       " 'A90': 1,\n",
       " 'A110': 1,\n",
       " 'A122': 1,\n",
       " 'A166': 1,\n",
       " 'A182': 1,\n",
       " 'A183': 1,\n",
       " 'A213': 1,\n",
       " 'A318': 1,\n",
       " 'A321': 1,\n",
       " 'A325': 1,\n",
       " 'A330': 1,\n",
       " 'A372': 1,\n",
       " 'A385': 1,\n",
       " 'A400': 1,\n",
       " 'A435': 1,\n",
       " 'A469': 1,\n",
       " 'A474': 1,\n",
       " 'A475': 1,\n",
       " 'A527': 1,\n",
       " 'A610': 1,\n",
       " 'A667': 1,\n",
       " 'A726': 1,\n",
       " 'A727': 1,\n",
       " 'A771': 1,\n",
       " 'A886': 1,\n",
       " 'A942': 1,\n",
       " 'A992': 1,\n",
       " 'A998': 1}"
      ]
     },
     "execution_count": 7,
     "metadata": {},
     "output_type": "execute_result"
    }
   ],
   "source": [
    "# find the frequency of each fraudulent accounts in days 21, 22, and 23\n",
    "\n",
    "T_account = dict()  # a dictionary to record fraudulent accounts and their frequency\n",
    "for date in [21, 22, 23]:  # iterate date in 21, 22 and 23\n",
    "    for account in T_rec[date]:  # for each fraudulent account in the selected date\n",
    "        # store keys(accounts) and their values(frequency)\n",
    "        if account not in T_account.keys():\n",
    "            T_account[account] = 1\n",
    "        else:\n",
    "            T_account[account] += 1\n",
    "# sort the T_account to see the result\n",
    "sort = {k: v for k, v in sorted(T_account.items(), key=lambda item: item[1], reverse=True)}\n",
    "sort"
   ]
  },
  {
   "cell_type": "code",
   "execution_count": null,
   "id": "113b1140-3afc-4007-bb67-51dca9bb80bb",
   "metadata": {},
   "outputs": [],
   "source": [
    "# note\n",
    "# 1. There are many low frequency fraudulent accounts.\n",
    "# 2. We can make an assumption that the accounts with higher frequency than the average are the possible \n",
    "#    common point of compromise victims and not the opportunistic fraud."
   ]
  },
  {
   "cell_type": "code",
   "execution_count": 8,
   "id": "88800185-13a6-4c20-9761-8e0cfc4f46fe",
   "metadata": {},
   "outputs": [
    {
     "name": "stdout",
     "output_type": "stream",
     "text": [
      "average: 3.722972972972973\n",
      "the possible common point of compromise victims:\n"
     ]
    },
    {
     "data": {
      "text/plain": [
       "{'A425': 15,\n",
       " 'A746': 15,\n",
       " 'A781': 14,\n",
       " 'A896': 14,\n",
       " 'A841': 13,\n",
       " 'A8': 11,\n",
       " 'A154': 11,\n",
       " 'A728': 11,\n",
       " 'A817': 11,\n",
       " 'A167': 10,\n",
       " 'A299': 10,\n",
       " 'A541': 10,\n",
       " 'A556': 10,\n",
       " 'A704': 10,\n",
       " 'A802': 10,\n",
       " 'A952': 10,\n",
       " 'A111': 9,\n",
       " 'A334': 9,\n",
       " 'A355': 9,\n",
       " 'A731': 9,\n",
       " 'A787': 9,\n",
       " 'A793': 9,\n",
       " 'A825': 9,\n",
       " 'A37': 8,\n",
       " 'A203': 8,\n",
       " 'A403': 8,\n",
       " 'A420': 8,\n",
       " 'A430': 8,\n",
       " 'A551': 8,\n",
       " 'A603': 8,\n",
       " 'A645': 8,\n",
       " 'A743': 8,\n",
       " 'A837': 8,\n",
       " 'A116': 7,\n",
       " 'A119': 7,\n",
       " 'A581': 7,\n",
       " 'A648': 7,\n",
       " 'A699': 7,\n",
       " 'A991': 7,\n",
       " 'A665': 7,\n",
       " 'A809': 7,\n",
       " 'A882': 7,\n",
       " 'A40': 6,\n",
       " 'A395': 6,\n",
       " 'A434': 6,\n",
       " 'A461': 6,\n",
       " 'A907': 6,\n",
       " 'A943': 6,\n",
       " 'A951': 6,\n",
       " 'A349': 5,\n",
       " 'A701': 5,\n",
       " 'A921': 5,\n",
       " 'A336': 4}"
      ]
     },
     "execution_count": 8,
     "metadata": {},
     "output_type": "execute_result"
    }
   ],
   "source": [
    "# calculate the average of all frequency of fraudulent accounts in days 21, 22, 23\n",
    "# and list all accounts that have higher frequency than the average\n",
    "\n",
    "value = list(sort.values())  # list of all frequencies\n",
    "avg = sum(value)/len(value)  # calculate the average value\n",
    "print('average:', avg)\n",
    "print('the possible common point of compromise victims:')\n",
    "T_possible = {k: v for k, v in sorted(T_account.items(), key=lambda item: item[1], reverse=True) if v>avg}  # keep only the desired accounts\n",
    "T_possible"
   ]
  },
  {
   "cell_type": "code",
   "execution_count": 9,
   "id": "30c77673-2bbe-4c12-8bdc-1e4e5367b731",
   "metadata": {},
   "outputs": [
    {
     "data": {
      "text/plain": [
       "<AxesSubplot:xlabel='count', ylabel='merchant'>"
      ]
     },
     "execution_count": 9,
     "metadata": {},
     "output_type": "execute_result"
    },
    {
     "data": {
      "image/png": "[encoded data removed]",
      "text/plain": [
       "<Figure size 432x2880 with 1 Axes>"
      ]
     },
     "metadata": {
      "needs_background": "light"
     },
     "output_type": "display_data"
    }
   ],
   "source": [
    "# plot all merchants that possible common point of compromise victims used before\n",
    "\n",
    "F = data[data['fraud'] == False]  # all fraud = False data\n",
    "F_account = F[F['account'].isin(list(T_possible.keys()))]  # all accounts is in possible common point of compromise victims data\n",
    "plt.figure(figsize=(6,40))  # define figure size\n",
    "sns.countplot(y = 'merchant',data=F_account)  # count plot"
   ]
  },
  {
   "cell_type": "code",
   "execution_count": null,
   "id": "22fefd69-830a-4560-ad81-9cf07c603de4",
   "metadata": {},
   "outputs": [],
   "source": [
    "# note\n",
    "# 1. It can be clearly seen that M18 has the hightest transaction of possible common point of compromise victims.\n",
    "# 2. So, it is likely that M18 is the common point of compromise."
   ]
  },
  {
   "cell_type": "code",
   "execution_count": 10,
   "id": "4286a73b-3068-466a-9494-31764824e3f5",
   "metadata": {},
   "outputs": [
    {
     "data": {
      "text/plain": [
       "<AxesSubplot:xlabel='count', ylabel='date'>"
      ]
     },
     "execution_count": 10,
     "metadata": {},
     "output_type": "execute_result"
    },
    {
     "data": {
      "image/png": "[encoded data removed]",
      "text/plain": [
       "<Figure size 432x1440 with 1 Axes>"
      ]
     },
     "metadata": {
      "needs_background": "light"
     },
     "output_type": "display_data"
    }
   ],
   "source": [
    "# In M18, find what days is the possible harvest days\n",
    "\n",
    "M18 = F[F['merchant'] == 'M18']  # select rows from F that have M18 in merchant column\n",
    "M18_account = M18[M18['account'].isin(list(T_possible.keys()))]  # choose only accounts in the T_possible.keys()\n",
    "plt.figure(figsize=(6,20))  # define figure size\n",
    "sns.countplot(y = 'date',data = M18_account)  # count plot"
   ]
  },
  {
   "cell_type": "code",
   "execution_count": 15,
   "id": "c8bcd54e-17c5-4907-bdc1-dbba8afa934e",
   "metadata": {},
   "outputs": [
    {
     "data": {
      "text/plain": [
       "array(['A37', 'A111', 'A299', 'A334', 'A336', 'A349', 'A355', 'A403',\n",
       "       'A425', 'A430', 'A434', 'A461', 'A551', 'A603', 'A728', 'A731',\n",
       "       'A743', 'A809', 'A825', 'A896', 'A951', 'A8', 'A40', 'A116',\n",
       "       'A119', 'A154', 'A167', 'A203', 'A395', 'A420', 'A541', 'A556',\n",
       "       'A581', 'A645', 'A648', 'A665', 'A699', 'A701', 'A704', 'A746',\n",
       "       'A787', 'A793', 'A802', 'A817', 'A837', 'A841', 'A882', 'A907',\n",
       "       'A921', 'A943', 'A952', 'A991'], dtype=object)"
      ]
     },
     "execution_count": 15,
     "metadata": {},
     "output_type": "execute_result"
    }
   ],
   "source": [
    "# find the common point of compromise victims in days 15, and 16 (in M18 merchant)\n",
    "M18_account[M18_account['date'].isin(['2015-01-15','2015-01-16'])]['account'].unique()"
   ]
  },
  {
   "cell_type": "code",
   "execution_count": 16,
   "id": "e5c239da-39cd-47be-9322-0f2b39a9ec30",
   "metadata": {},
   "outputs": [
    {
     "data": {
      "text/plain": [
       "52"
      ]
     },
     "execution_count": 16,
     "metadata": {},
     "output_type": "execute_result"
    }
   ],
   "source": [
    "# the number of common point of the compromise victims in days 15, and 16 (in M18 merchant)\n",
    "len(list(M18_account[M18_account['date'].isin(['2015-01-15','2015-01-16'])]['account'].unique()))"
   ]
  },
  {
   "cell_type": "code",
   "execution_count": null,
   "id": "46b571cc-9823-4789-859e-546b40e091db",
   "metadata": {},
   "outputs": [],
   "source": [
    "# note\n",
    "# 1. It is likely that days 15 and 16 are the most possible harvest days sine they have high frequency\n",
    "#    of transactoin of the possible common point of compromise victims and high number of those accounts.\n",
    "# 2. Also the duratoin of day 16 (harvest) and day 21 (exploit) is considered several days (4 days)\n",
    "#    which is the definition of the duratoin between the harvest and exploit process."
   ]
  },
  {
   "cell_type": "code",
   "execution_count": null,
   "id": "2babfcb6-5753-4a6f-873a-1a807b280097",
   "metadata": {},
   "outputs": [],
   "source": [
    "'''\n",
    "    conclusion section\n",
    "'''"
   ]
  },
  {
   "cell_type": "code",
   "execution_count": null,
   "id": "26f8849b-343a-4cc6-a2a1-7645dfe21daf",
   "metadata": {},
   "outputs": [],
   "source": [
    "# From the above description,\n",
    "\n",
    "# 1. The common point of compromise: M18.\n",
    "# 2. Days accounts are compromised (harvest): 2015-01-15 and 2015-01-16.\n",
    "# 3. Days the compromise is exploited: 2015-01-21, 2015-01-22, and 2015-01-23\n",
    "\n",
    "# How well did your solution work and how do you know?\n",
    "# The answer of this is based on statistics.\n",
    "# 1. Days 21, 22 and 23 have high number of fraud (around 175) compared to the rest (around 25).\n",
    "#    So, those days are likely to be the exploit process.\n",
    "# 2. Assuming that we know all common point of compromise victims (accounts), those accounts have been heavily transaced in M18 (around 90)\n",
    "#    compared to the rest merchants (around 40). So, M18 is likely to be the common point of compromise.\n",
    "# 3. In M18, days 15 and 16 are likely to be the harvest process since it have high intensity of transaction (around 20 and 30 respectively),\n",
    "#    compared to the rest (less than 5). Additionally, the number of harvested accounts in those days are high (52 accounts)"
   ]
  }
 ],
 "metadata": {
  "kernelspec": {
   "display_name": "Python 3 (ipykernel)",
   "language": "python",
   "name": "python3"
  },
  "language_info": {
   "codemirror_mode": {
    "name": "ipython",
    "version": 3
   },
   "file_extension": ".py",
   "mimetype": "text/x-python",
   "name": "python",
   "nbconvert_exporter": "python",
   "pygments_lexer": "ipython3",
   "version": "3.9.7"
  }
 },
 "nbformat": 4,
 "nbformat_minor": 5
}
