{
 "cells": [
  {
   "cell_type": "markdown",
   "metadata": {
    "id": "T6Fjj_P5ZMaP"
   },
   "source": [
    "# Query non-stem data from mongoDB"
   ]
  },
  {
   "cell_type": "code",
   "execution_count": null,
   "metadata": {
    "id": "6ERnLNVZC-mZ"
   },
   "outputs": [],
   "source": [
    "import pymongo\n",
    "import urllib\n",
    "from pymongo import MongoClient\n",
    "from datetime import date\n",
    "import datetime\n",
    "\n",
    "import pandas as pd\n",
    "from pandas import Series, DataFrame\n",
    "import numpy as np\n",
    "\n",
    "import time\n",
    "import timeit"
   ]
  },
  {
   "cell_type": "code",
   "execution_count": null,
   "metadata": {
    "id": "e7Ufu18zG12Y"
   },
   "outputs": [],
   "source": [
    "username = urllib.parse.quote_plus('#######')\n",
    "password = urllib.parse.quote_plus('#######')\n",
    "clinet = MongoClient('mongodb://%s:%s@###########' % (username, password))"
   ]
  },
  {
   "cell_type": "code",
   "execution_count": null,
   "metadata": {
    "id": "kjAWgspVG4aQ"
   },
   "outputs": [],
   "source": [
    "db=clinet['Production']\n",
    "collection=db['ParsedJobads']"
   ]
  },
  {
   "cell_type": "code",
   "execution_count": null,
   "metadata": {
    "colab": {
     "base_uri": "https://localhost:8080/"
    },
    "id": "hPfDbDwyG6Mv",
    "outputId": "0c46cb3e-ba67-46cc-e7cb-9e3bab653ec9"
   },
   "outputs": [
    {
     "name": "stdout",
     "output_type": "stream",
     "text": [
      "runtime =  298.4246470928192\n"
     ]
    }
   ],
   "source": [
    "#query specific all wanted data\n",
    "start = time.time()\n",
    "fill= {'description':1, 'title_en':1, 'title_th':1, 'mine_result.Occupation.EN':1,\n",
    "       'mine_result.industry.group':1, 'company':1 }\n",
    "data= list(collection.find({},fill))\n",
    "end = time.time()\n",
    "print('runtime = ', end-start)"
   ]
  },
  {
   "cell_type": "code",
   "execution_count": null,
   "metadata": {
    "colab": {
     "base_uri": "https://localhost:8080/"
    },
    "id": "v8ueGjuJHBeV",
    "outputId": "c73bbb2b-a64d-4af8-9481-1a3959a33271"
   },
   "outputs": [
    {
     "data": {
      "text/plain": [
       "1082318"
      ]
     },
     "execution_count": 5,
     "metadata": {
      "tags": []
     },
     "output_type": "execute_result"
    }
   ],
   "source": [
    "len(data)"
   ]
  },
  {
   "cell_type": "code",
   "execution_count": null,
   "metadata": {
    "colab": {
     "base_uri": "https://localhost:8080/"
    },
    "id": "DIrxv7s8HK66",
    "outputId": "bf925a8c-3ef7-4de9-a05c-b563d424caeb"
   },
   "outputs": [
    {
     "data": {
      "text/plain": [
       "1082318"
      ]
     },
     "execution_count": 6,
     "metadata": {
      "tags": []
     },
     "output_type": "execute_result"
    }
   ],
   "source": [
    "dataF=pd.DataFrame(data)\n",
    "len(dataF)"
   ]
  },
  {
   "cell_type": "code",
   "execution_count": null,
   "metadata": {
    "colab": {
     "base_uri": "https://localhost:8080/"
    },
    "id": "OkOqAiXBHMZI",
    "outputId": "7cb09b69-3eed-4753-fa30-af1859fb3b3d"
   },
   "outputs": [
    {
     "data": {
      "text/plain": [
       "721174"
      ]
     },
     "execution_count": 7,
     "metadata": {
      "tags": []
     },
     "output_type": "execute_result"
    }
   ],
   "source": [
    "non_stem=dataF[dataF['mine_result']=={'Occupation': {'EN': 'non STEM Occupation'}}]\n",
    "len(non_stem)"
   ]
  },
  {
   "cell_type": "code",
   "execution_count": null,
   "metadata": {
    "colab": {
     "base_uri": "https://localhost:8080/",
     "height": 289
    },
    "id": "FaZ0R5ZOHRrB",
    "outputId": "02ef5f84-50fd-4ebe-e40a-8e4260afb874"
   },
   "outputs": [
    {
     "data": {
      "text/html": [
       "<div>\n",
       "<style scoped>\n",
       "    .dataframe tbody tr th:only-of-type {\n",
       "        vertical-align: middle;\n",
       "    }\n",
       "\n",
       "    .dataframe tbody tr th {\n",
       "        vertical-align: top;\n",
       "    }\n",
       "\n",
       "    .dataframe thead th {\n",
       "        text-align: right;\n",
       "    }\n",
       "</style>\n",
       "<table border=\"1\" class=\"dataframe\">\n",
       "  <thead>\n",
       "    <tr style=\"text-align: right;\">\n",
       "      <th></th>\n",
       "      <th>_id</th>\n",
       "      <th>title_en</th>\n",
       "      <th>title_th</th>\n",
       "      <th>description</th>\n",
       "      <th>company</th>\n",
       "      <th>mine_result</th>\n",
       "    </tr>\n",
       "  </thead>\n",
       "  <tbody>\n",
       "    <tr>\n",
       "      <th>0</th>\n",
       "      <td>5cfe0339ae04a37efca33a0f</td>\n",
       "      <td></td>\n",
       "      <td>Shop Manager - Luxury Brand</td>\n",
       "      <td>OverviewWe are looking for an experiencedShop ...</td>\n",
       "      <td>Qapstone Consulting Group Recruitment Co., Ltd.</td>\n",
       "      <td>{'Occupation': {'EN': 'non STEM Occupation'}}</td>\n",
       "    </tr>\n",
       "    <tr>\n",
       "      <th>1</th>\n",
       "      <td>5cfe0339ae04a37efca33a0d</td>\n",
       "      <td></td>\n",
       "      <td>Accounting Manager</td>\n",
       "      <td>Accounting ManagerJob descriptionManage balanc...</td>\n",
       "      <td>THE MAKE-IT CO., LTD.</td>\n",
       "      <td>{'Occupation': {'EN': 'non STEM Occupation'}}</td>\n",
       "    </tr>\n",
       "    <tr>\n",
       "      <th>2</th>\n",
       "      <td>5cfe0339ae04a37efca33a0e</td>\n",
       "      <td></td>\n",
       "      <td>HR Officer / เจ้าหน้าที่ทรัพยากรมนุษย์</td>\n",
       "      <td>รายละเอียดงาน:ควบคุมอัตรากำลัง งานสรรหาและว่าจ...</td>\n",
       "      <td>Sri Trang Rubber &amp; Plantation Co., Ltd.</td>\n",
       "      <td>{'Occupation': {'EN': 'non STEM Occupation'}}</td>\n",
       "    </tr>\n",
       "    <tr>\n",
       "      <th>3</th>\n",
       "      <td>5cfe0339ae04a37efca33a10</td>\n",
       "      <td></td>\n",
       "      <td>พนักงานสินค้า/ส่งเอกสารประจำ อำเภอเมือง จังหวั...</td>\n",
       "      <td>Responsibilitiesส่งเอกสารที่ได้รับหมอบหมายให้ส...</td>\n",
       "      <td>U Delivery Co., Ltd.</td>\n",
       "      <td>{'Occupation': {'EN': 'non STEM Occupation'}}</td>\n",
       "    </tr>\n",
       "    <tr>\n",
       "      <th>4</th>\n",
       "      <td>5cfe0339ae04a37efca33a0c</td>\n",
       "      <td></td>\n",
       "      <td>Overseas Buyer/จัดซื้อ(ต่างประเทศ)</td>\n",
       "      <td>Job main duties:Prepare costing and control ma...</td>\n",
       "      <td>Sybarite Co., Ltd.</td>\n",
       "      <td>{'Occupation': {'EN': 'non STEM Occupation'}}</td>\n",
       "    </tr>\n",
       "  </tbody>\n",
       "</table>\n",
       "</div>"
      ],
      "text/plain": [
       "                        _id  ...                                    mine_result\n",
       "0  5cfe0339ae04a37efca33a0f  ...  {'Occupation': {'EN': 'non STEM Occupation'}}\n",
       "1  5cfe0339ae04a37efca33a0d  ...  {'Occupation': {'EN': 'non STEM Occupation'}}\n",
       "2  5cfe0339ae04a37efca33a0e  ...  {'Occupation': {'EN': 'non STEM Occupation'}}\n",
       "3  5cfe0339ae04a37efca33a10  ...  {'Occupation': {'EN': 'non STEM Occupation'}}\n",
       "4  5cfe0339ae04a37efca33a0c  ...  {'Occupation': {'EN': 'non STEM Occupation'}}\n",
       "\n",
       "[5 rows x 6 columns]"
      ]
     },
     "execution_count": 8,
     "metadata": {
      "tags": []
     },
     "output_type": "execute_result"
    }
   ],
   "source": [
    "non_stem.head()"
   ]
  },
  {
   "cell_type": "code",
   "execution_count": null,
   "metadata": {
    "colab": {
     "base_uri": "https://localhost:8080/"
    },
    "id": "fP_y7XyGHXq9",
    "outputId": "16e3dcc0-6cc0-4ae6-d41c-397f7ff1573b"
   },
   "outputs": [
    {
     "data": {
      "text/plain": [
       "551990"
      ]
     },
     "execution_count": 9,
     "metadata": {
      "tags": []
     },
     "output_type": "execute_result"
    }
   ],
   "source": [
    "temp=[]\n",
    "for i in non_stem['description']:\n",
    "  if len(str(i))>150:\n",
    "    temp.append(i)\n",
    "len(temp)"
   ]
  },
  {
   "cell_type": "code",
   "execution_count": null,
   "metadata": {
    "colab": {
     "base_uri": "https://localhost:8080/"
    },
    "id": "vwLL_gAuKdL1",
    "outputId": "ac670d25-eac1-4a40-f59f-78c962563033"
   },
   "outputs": [
    {
     "data": {
      "text/plain": [
       "0    OverviewWe are looking for an experiencedShop ...\n",
       "1    Accounting ManagerJob descriptionManage balanc...\n",
       "2    รายละเอียดงาน:ควบคุมอัตรากำลัง งานสรรหาและว่าจ...\n",
       "3    Responsibilitiesส่งเอกสารที่ได้รับหมอบหมายให้ส...\n",
       "4    Job main duties:Prepare costing and control ma...\n",
       "dtype: object"
      ]
     },
     "execution_count": 10,
     "metadata": {
      "tags": []
     },
     "output_type": "execute_result"
    }
   ],
   "source": [
    "select=pd.Series(temp)\n",
    "select.head()"
   ]
  },
  {
   "cell_type": "code",
   "execution_count": null,
   "metadata": {
    "colab": {
     "base_uri": "https://localhost:8080/"
    },
    "id": "IxKUf9SJL7lA",
    "outputId": "f27f2df5-b012-4614-bd6b-e1b88e8d4320"
   },
   "outputs": [
    {
     "data": {
      "text/plain": [
       "551990"
      ]
     },
     "execution_count": 11,
     "metadata": {
      "tags": []
     },
     "output_type": "execute_result"
    }
   ],
   "source": [
    "len(select)"
   ]
  },
  {
   "cell_type": "code",
   "execution_count": null,
   "metadata": {
    "colab": {
     "base_uri": "https://localhost:8080/",
     "height": 86
    },
    "id": "Af6UdHrTJWNM",
    "outputId": "9745bbae-d024-4738-e99d-f2b6865b4659"
   },
   "outputs": [
    {
     "data": {
      "application/vnd.google.colaboratory.intrinsic+json": {
       "type": "string"
      },
      "text/plain": [
       "'Accounting ManagerJob descriptionManage balance sheetAccurate month, quarter and year end reportingCoordinate with external auditorAnalyze financial resultsProduction costingExcellent knowledge of particularities of BOI accountingProfile:Bachelor degree or higher in Accounting or FinanceMinimal 5 years working experience in accounting or finance managerial positionConfident to communicate in EnglishHands on mentality, capable of setting up and running a department'"
      ]
     },
     "execution_count": 12,
     "metadata": {
      "tags": []
     },
     "output_type": "execute_result"
    }
   ],
   "source": [
    "select[1]"
   ]
  },
  {
   "cell_type": "code",
   "execution_count": null,
   "metadata": {
    "id": "sVpaBjE7VNqa"
   },
   "outputs": [],
   "source": [
    "# for testing purpose\n",
    "select=select[:100000]"
   ]
  },
  {
   "cell_type": "code",
   "execution_count": null,
   "metadata": {
    "colab": {
     "base_uri": "https://localhost:8080/"
    },
    "id": "RxoTDq5uXA6q",
    "outputId": "7fa01d19-434c-43a9-d1a9-76349c92d6fa"
   },
   "outputs": [
    {
     "data": {
      "text/plain": [
       "100000"
      ]
     },
     "execution_count": 14,
     "metadata": {
      "tags": []
     },
     "output_type": "execute_result"
    }
   ],
   "source": [
    "len(select)"
   ]
  },
  {
   "cell_type": "markdown",
   "metadata": {
    "id": "okbDAV-zH6ds"
   },
   "source": [
    "# preprocess English and Thai texts "
   ]
  },
  {
   "cell_type": "code",
   "execution_count": null,
   "metadata": {
    "colab": {
     "base_uri": "https://localhost:8080/"
    },
    "id": "nLt4fcr1H8cb",
    "outputId": "eb7d2e45-afc5-4729-db6e-afdf8cb48085"
   },
   "outputs": [
    {
     "name": "stdout",
     "output_type": "stream",
     "text": [
      "[nltk_data] Downloading package wordnet to /root/nltk_data...\n",
      "[nltk_data]   Unzipping corpora/wordnet.zip.\n"
     ]
    },
    {
     "data": {
      "text/plain": [
       "True"
      ]
     },
     "execution_count": 15,
     "metadata": {
      "tags": []
     },
     "output_type": "execute_result"
    }
   ],
   "source": [
    "#import ENG\n",
    "import gensim\n",
    "from gensim.utils import simple_preprocess\n",
    "from gensim.parsing.preprocessing import STOPWORDS\n",
    "from nltk.stem import WordNetLemmatizer, SnowballStemmer\n",
    "from nltk.stem.porter import *\n",
    "import numpy as np\n",
    "np.random.seed(2018)\n",
    "import nltk\n",
    "nltk.download('wordnet')"
   ]
  },
  {
   "cell_type": "code",
   "execution_count": null,
   "metadata": {
    "colab": {
     "base_uri": "https://localhost:8080/"
    },
    "id": "8NyHu0piH_a5",
    "outputId": "f57ed940-53b1-4849-9182-588c3e156f10"
   },
   "outputs": [
    {
     "name": "stdout",
     "output_type": "stream",
     "text": [
      "Collecting pythainlp\n",
      "\u001b[?25l  Downloading https://files.pythonhosted.org/packages/c1/09/1215cb6f6ef0cfc9dbb427a961fda8a47c111955f782f659ca2d38c79adc/pythainlp-2.2.6-py3-none-any.whl (10.6MB)\n",
      "\u001b[K     |████████████████████████████████| 10.6MB 4.3MB/s \n",
      "\u001b[?25hCollecting tinydb>=3.0\n",
      "  Downloading https://files.pythonhosted.org/packages/af/cd/1ce3d93818cdeda0446b8033d21e5f32daeb3a866bbafd878a9a62058a9c/tinydb-4.4.0-py3-none-any.whl\n",
      "Requirement already satisfied: requests>=2.22.0 in /usr/local/lib/python3.7/dist-packages (from pythainlp) (2.23.0)\n",
      "Collecting python-crfsuite>=0.9.6\n",
      "\u001b[?25l  Downloading https://files.pythonhosted.org/packages/79/47/58f16c46506139f17de4630dbcfb877ce41a6355a1bbf3c443edb9708429/python_crfsuite-0.9.7-cp37-cp37m-manylinux1_x86_64.whl (743kB)\n",
      "\u001b[K     |████████████████████████████████| 747kB 40.2MB/s \n",
      "\u001b[?25hRequirement already satisfied: chardet<4,>=3.0.2 in /usr/local/lib/python3.7/dist-packages (from requests>=2.22.0->pythainlp) (3.0.4)\n",
      "Requirement already satisfied: urllib3!=1.25.0,!=1.25.1,<1.26,>=1.21.1 in /usr/local/lib/python3.7/dist-packages (from requests>=2.22.0->pythainlp) (1.24.3)\n",
      "Requirement already satisfied: certifi>=2017.4.17 in /usr/local/lib/python3.7/dist-packages (from requests>=2.22.0->pythainlp) (2020.12.5)\n",
      "Requirement already satisfied: idna<3,>=2.5 in /usr/local/lib/python3.7/dist-packages (from requests>=2.22.0->pythainlp) (2.10)\n",
      "Installing collected packages: tinydb, python-crfsuite, pythainlp\n",
      "Successfully installed pythainlp-2.2.6 python-crfsuite-0.9.7 tinydb-4.4.0\n"
     ]
    }
   ],
   "source": [
    "#THAI\n",
    "!pip install pythainlp"
   ]
  },
  {
   "cell_type": "code",
   "execution_count": null,
   "metadata": {
    "colab": {
     "base_uri": "https://localhost:8080/"
    },
    "id": "PlQd5hi5IBik",
    "outputId": "7b9abcc4-4ab4-4f15-87bb-5e74c29f4bb3"
   },
   "outputs": [
    {
     "name": "stdout",
     "output_type": "stream",
     "text": [
      "Collecting epitran\n",
      "\u001b[?25l  Downloading https://files.pythonhosted.org/packages/3d/de/799795f6fe86f66c31d5cba1240317e522054825763dbfa8d9dc7e373842/epitran-1.9-py2.py3-none-any.whl (137kB)\n",
      "\u001b[K     |████████████████████████████████| 143kB 4.2MB/s eta 0:00:01\n",
      "\u001b[?25hCollecting unicodecsv\n",
      "  Downloading https://files.pythonhosted.org/packages/6f/a4/691ab63b17505a26096608cc309960b5a6bdf39e4ba1a793d5f9b1a53270/unicodecsv-0.14.1.tar.gz\n",
      "Requirement already satisfied: regex in /usr/local/lib/python3.7/dist-packages (from epitran) (2019.12.20)\n",
      "Collecting marisa-trie\n",
      "\u001b[?25l  Downloading https://files.pythonhosted.org/packages/20/95/d23071d0992dabcb61c948fb118a90683193befc88c23e745b050a29e7db/marisa-trie-0.7.5.tar.gz (270kB)\n",
      "\u001b[K     |████████████████████████████████| 276kB 7.5MB/s \n",
      "\u001b[?25hCollecting panphon>=0.16\n",
      "\u001b[?25l  Downloading https://files.pythonhosted.org/packages/ef/25/935f443f0a2cce5d7a4b6b0d9101c990a6f3c74702c02287d4addd3fe009/panphon-0.17-py2.py3-none-any.whl (71kB)\n",
      "\u001b[K     |████████████████████████████████| 71kB 4.8MB/s \n",
      "\u001b[?25hRequirement already satisfied: setuptools in /usr/local/lib/python3.7/dist-packages (from epitran) (54.0.0)\n",
      "Collecting munkres\n",
      "  Downloading https://files.pythonhosted.org/packages/90/ab/0301c945a704218bc9435f0e3c88884f6b19ef234d8899fb47ce1ccfd0c9/munkres-1.1.4-py2.py3-none-any.whl\n",
      "Requirement already satisfied: PyYAML in /usr/local/lib/python3.7/dist-packages (from panphon>=0.16->epitran) (3.13)\n",
      "Requirement already satisfied: editdistance in /usr/local/lib/python3.7/dist-packages (from panphon>=0.16->epitran) (0.5.3)\n",
      "Requirement already satisfied: numpy in /usr/local/lib/python3.7/dist-packages (from panphon>=0.16->epitran) (1.19.5)\n",
      "Building wheels for collected packages: unicodecsv, marisa-trie\n",
      "  Building wheel for unicodecsv (setup.py) ... \u001b[?25l\u001b[?25hdone\n",
      "  Created wheel for unicodecsv: filename=unicodecsv-0.14.1-cp37-none-any.whl size=10768 sha256=957fcd5883628f5e8ad0fba27423e5d3a1acadcaa27d02b746d9d9a900e638d6\n",
      "  Stored in directory: /root/.cache/pip/wheels/a6/09/e9/e800279c98a0a8c94543f3de6c8a562f60e51363ed26e71283\n",
      "  Building wheel for marisa-trie (setup.py) ... \u001b[?25l\u001b[?25hdone\n",
      "  Created wheel for marisa-trie: filename=marisa_trie-0.7.5-cp37-cp37m-linux_x86_64.whl size=861704 sha256=3fcc21f5e58ec87f674a0db2eb924700c7ff4d9439d5888d5701f05039ec89d9\n",
      "  Stored in directory: /root/.cache/pip/wheels/45/24/79/022624fc914f0e559fe8a1141aaff1f9df810905a13fc75d57\n",
      "Successfully built unicodecsv marisa-trie\n",
      "Installing collected packages: unicodecsv, marisa-trie, munkres, panphon, epitran\n",
      "Successfully installed epitran-1.9 marisa-trie-0.7.5 munkres-1.1.4 panphon-0.17 unicodecsv-0.14.1\n"
     ]
    }
   ],
   "source": [
    "!pip install epitran"
   ]
  },
  {
   "cell_type": "code",
   "execution_count": null,
   "metadata": {
    "colab": {
     "base_uri": "https://localhost:8080/",
     "height": 35
    },
    "id": "avRDUuekIDqP",
    "outputId": "7fa2e11f-826a-4737-eac3-8120e80b071b"
   },
   "outputs": [
    {
     "data": {
      "application/vnd.google.colaboratory.intrinsic+json": {
       "type": "string"
      },
      "text/plain": [
       "'2.2.6'"
      ]
     },
     "execution_count": 18,
     "metadata": {
      "tags": []
     },
     "output_type": "execute_result"
    }
   ],
   "source": [
    "import pythainlp\n",
    "from pythainlp import word_tokenize\n",
    "\n",
    "pythainlp.__version__"
   ]
  },
  {
   "cell_type": "code",
   "execution_count": null,
   "metadata": {
    "id": "uttuVAoyIFyz"
   },
   "outputs": [],
   "source": [
    "# all function\n",
    "\n",
    "#function to solve: ManagerFor, managerFor/ out = split words\n",
    "#input = a word (only English)\n",
    "#output = [w1, w2, w3,...]\n",
    "import re\n",
    "def splitword(text):\n",
    "  out=[]\n",
    "  couUp=0\n",
    "  left=0\n",
    "  initial=text.strip()\n",
    "  upper=re.findall('[A-Z]',initial)\n",
    "  for i in range(len(initial)):\n",
    "    if initial[i] in upper:\n",
    "      couUp+=1\n",
    "    if couUp==len(upper):\n",
    "      out.append(initial[left:i])\n",
    "      out.append(initial[i:])\n",
    "      break\n",
    "    elif initial[i] in upper and i !=0:\n",
    "      out.append(initial[left:i])\n",
    "      left=i\n",
    "  return ' '.join(out).strip()\n",
    "\n",
    "#Data Pre-processing for English only\n",
    "# input = many words\n",
    "#output = [w1, w2, w3, ......]\n",
    "\n",
    "#1. Tokenization: Split the text into sentences and the sentences into words.\n",
    "# Lowercase the words and remove punctuation.\n",
    "#2. Words that have fewer than 3 characters are removed.\n",
    "#3. All stopwords are removed.\n",
    "#4. Words are lemmatized — \n",
    "#words in third person are changed to first person and verbs in past and future tenses are changed into present.\n",
    "#5. Words are stemmed — words are reduced to their root form.\n",
    "def lemmatize_stemming(text):\n",
    "    return SnowballStemmer('english').stem(WordNetLemmatizer().lemmatize(text, pos='v'))\n",
    "def preprocess(text):\n",
    "    result = []\n",
    "    for token in gensim.utils.simple_preprocess(text):\n",
    "        if token not in gensim.parsing.preprocessing.STOPWORDS and len(token) > 3:\n",
    "            result.append(lemmatize_stemming(token))\n",
    "    return result\n",
    "\n",
    "#process for all data\n",
    "#input = docs\n",
    "# output = a list of each word\n",
    "def preprocessAll(text):\n",
    "  text=str(text)\n",
    "  text=text.strip()\n",
    "  thai=pythainlp.thai_characters\n",
    "  th=''\n",
    "  en=''\n",
    "  for i in range(len(text)):\n",
    "    if text[i] in thai:\n",
    "      th=th+text[i]\n",
    "    else:\n",
    "      if (i != 0) and (text[i-1] in thai):\n",
    "        en=en+' '+text[i]\n",
    "      else:\n",
    "        en=en+text[i]\n",
    "  temp_en=[]\n",
    "  for i in en.split(' '):\n",
    "    if i !='':\n",
    "      temp_en.append(splitword(i))\n",
    "  temp_en=' '.join(temp_en)\n",
    "  return preprocess(temp_en)+word_tokenize(th, keep_whitespace=False)"
   ]
  },
  {
   "cell_type": "code",
   "execution_count": null,
   "metadata": {
    "colab": {
     "base_uri": "https://localhost:8080/"
    },
    "id": "l2ahmzsjLml0",
    "outputId": "7ef34604-5d25-497f-b8b5-d9e45e752073"
   },
   "outputs": [
    {
     "name": "stdout",
     "output_type": "stream",
     "text": [
      "runime:  241.39133082800004\n"
     ]
    }
   ],
   "source": [
    "#map processAll with the data\n",
    "start = timeit.default_timer()\n",
    "processed_docs = select.map(preprocessAll)\n",
    "stop = timeit.default_timer()\n",
    "print('runime: ', stop - start)  "
   ]
  },
  {
   "cell_type": "code",
   "execution_count": null,
   "metadata": {
    "colab": {
     "base_uri": "https://localhost:8080/"
    },
    "id": "QKQOgwSWL_gG",
    "outputId": "1ffec548-8005-4088-a1fb-74a70d98d818"
   },
   "outputs": [
    {
     "data": {
      "text/plain": [
       "['overview',\n",
       " 'look',\n",
       " 'experi',\n",
       " 'shop',\n",
       " 'managerfor',\n",
       " 'client',\n",
       " 'know',\n",
       " 'luxuri',\n",
       " 'retail',\n",
       " 'role',\n",
       " 'organ',\n",
       " 'respons',\n",
       " 'aspect',\n",
       " 'supervis',\n",
       " 'shop',\n",
       " 'includ',\n",
       " 'sale',\n",
       " 'staff',\n",
       " 'stock',\n",
       " 'resourc',\n",
       " 'manag',\n",
       " 'respons',\n",
       " 'ensur',\n",
       " 'staff',\n",
       " 'great',\n",
       " 'custom',\n",
       " 'servic',\n",
       " 'custom',\n",
       " 'monitor',\n",
       " 'sale',\n",
       " 'perform',\n",
       " 'store',\n",
       " 'maintain',\n",
       " 'statist',\n",
       " 'financi',\n",
       " 'record',\n",
       " 'deal',\n",
       " 'custom',\n",
       " 'queri',\n",
       " 'complaint',\n",
       " 'overse',\n",
       " 'price',\n",
       " 'stock',\n",
       " 'control',\n",
       " 'manag',\n",
       " 'overal',\n",
       " 'aspect',\n",
       " 'store',\n",
       " 'manag',\n",
       " 'staff',\n",
       " 'peopl',\n",
       " 'qualif',\n",
       " 'femal',\n",
       " 'year',\n",
       " 'bachelor',\n",
       " 'degre',\n",
       " 'equival',\n",
       " 'field',\n",
       " 'good',\n",
       " 'command',\n",
       " 'english',\n",
       " 'languag',\n",
       " 'advantag',\n",
       " 'prior',\n",
       " 'experi',\n",
       " 'work',\n",
       " 'retail',\n",
       " 'store',\n",
       " 'experi',\n",
       " 'manag',\n",
       " 'staff',\n",
       " 'high',\n",
       " 'prefer',\n",
       " 'previous',\n",
       " 'experi',\n",
       " 'manag',\n",
       " 'team',\n",
       " 'abl',\n",
       " 'work',\n",
       " 'day',\n",
       " 'week',\n",
       " 'benefit',\n",
       " 'posit',\n",
       " 'allow',\n",
       " 'commiss',\n",
       " 'month',\n",
       " 'day',\n",
       " 'month',\n",
       " 'health',\n",
       " 'life',\n",
       " 'insur',\n",
       " 'provid',\n",
       " 'fund',\n",
       " 'inquiri',\n",
       " 'contact',\n",
       " 'line',\n",
       " 'job_qapston']"
      ]
     },
     "execution_count": 21,
     "metadata": {
      "tags": []
     },
     "output_type": "execute_result"
    }
   ],
   "source": [
    "#all eng\n",
    "processed_docs[0]"
   ]
  },
  {
   "cell_type": "code",
   "execution_count": null,
   "metadata": {
    "colab": {
     "base_uri": "https://localhost:8080/"
    },
    "id": "wCmluoP7aaNx",
    "outputId": "6f4219e7-75ad-43a0-b134-5f13feb315ed"
   },
   "outputs": [
    {
     "data": {
      "text/plain": [
       "['รายละเอียด',\n",
       " 'งาน',\n",
       " 'ควบคุม',\n",
       " 'อัตรา',\n",
       " 'กำลังงาน',\n",
       " 'สรรหา',\n",
       " 'และ',\n",
       " 'ว่าจ้าง',\n",
       " 'พนักงาน',\n",
       " 'รายวัน',\n",
       " 'งาน',\n",
       " 'แรงงานสัมพันธ์',\n",
       " 'งานธุรการ',\n",
       " 'คุณสมบัติ',\n",
       " 'ชาย',\n",
       " 'อายุ',\n",
       " 'ปี',\n",
       " 'ขึ้นไป',\n",
       " 'วุฒิการศึกษา',\n",
       " 'ปริญญาตรี',\n",
       " 'การบริหาร',\n",
       " 'ทรัพยากร',\n",
       " 'มนุษย์',\n",
       " 'หรือ',\n",
       " 'สาขา',\n",
       " 'ที่',\n",
       " 'เกี่ยวข้อง',\n",
       " 'สามารถ',\n",
       " 'เดินทาง',\n",
       " 'ไป',\n",
       " 'ปฏิบัติงาน',\n",
       " 'ต่างจังหวัด',\n",
       " 'ได้',\n",
       " 'มีประสบการณ์',\n",
       " 'ใน',\n",
       " 'การ',\n",
       " 'สรรหา',\n",
       " 'พนักงาน',\n",
       " 'จะ',\n",
       " 'พิจารณา',\n",
       " 'เป็นพิเศษ',\n",
       " 'มี',\n",
       " 'มนุษยสัมพันธ์',\n",
       " 'ดี',\n",
       " 'สามารถ',\n",
       " 'ทำงาน',\n",
       " 'ภายใต้',\n",
       " 'ภาวะ',\n",
       " 'กดดัน',\n",
       " 'ได้ดี',\n",
       " 'สวัสดิการ',\n",
       " 'ประกันสังคม',\n",
       " 'โบนัส',\n",
       " 'กองทุน',\n",
       " 'น',\n",
       " 'สำรอง',\n",
       " 'เลี้ยงชีพ',\n",
       " 'ประกัน',\n",
       " 'อุบัติเหตุ',\n",
       " 'ประกัน',\n",
       " 'สุขภาพ',\n",
       " 'ติดต่อ',\n",
       " 'คุณ',\n",
       " 'หนึ่ง',\n",
       " 'ฤทัย',\n",
       " 'กันทะ',\n",
       " 'ยอง',\n",
       " 'บริษัท',\n",
       " 'ศรีตรัง',\n",
       " 'รับ',\n",
       " 'เบอร์',\n",
       " 'แอนด์',\n",
       " 'แพลน',\n",
       " 'เท',\n",
       " 'ชั่น',\n",
       " 'จำกัด',\n",
       " 'มต',\n",
       " 'หนอง',\n",
       " 'ป่า',\n",
       " 'ครั่ง',\n",
       " 'อ',\n",
       " 'เมือง',\n",
       " 'จ',\n",
       " 'เชียงใหม่',\n",
       " 'จังหวัด',\n",
       " 'เชียงใหม่',\n",
       " 'โทร']"
      ]
     },
     "execution_count": 22,
     "metadata": {
      "tags": []
     },
     "output_type": "execute_result"
    }
   ],
   "source": [
    "#all thai\n",
    "processed_docs[2]"
   ]
  },
  {
   "cell_type": "code",
   "execution_count": null,
   "metadata": {
    "colab": {
     "base_uri": "https://localhost:8080/"
    },
    "id": "yhA2haP2MS5B",
    "outputId": "8ce51dca-7525-49f2-8cb3-368aa7036c73"
   },
   "outputs": [
    {
     "data": {
      "text/plain": [
       "['qualif',\n",
       " 'benefit',\n",
       " 'contact',\n",
       " 'prontima',\n",
       " 'ส่ง',\n",
       " 'เอกสาร',\n",
       " 'ที่',\n",
       " 'ได้รับ',\n",
       " 'หมอบ',\n",
       " 'หมาย',\n",
       " 'ให้',\n",
       " 'สำเร็จ',\n",
       " 'ส่ง',\n",
       " 'เอกสาร',\n",
       " 'ให้',\n",
       " 'ถึง',\n",
       " 'มือ',\n",
       " 'ลูกค้า',\n",
       " 'โดย',\n",
       " 'ถูกต้อง',\n",
       " 'เพศชาย',\n",
       " 'อายุ',\n",
       " 'ปี',\n",
       " 'วุฒิการศึกษา',\n",
       " 'ม',\n",
       " 'ปริญญาตรี',\n",
       " 'มี',\n",
       " 'ที่อยู่อาศัย',\n",
       " 'ใน',\n",
       " 'อำเภอ',\n",
       " 'เมือง',\n",
       " 'จังหวัด',\n",
       " 'สกลนคร',\n",
       " 'สามารถ',\n",
       " 'ปฏิบัติ',\n",
       " 'งานประจำ',\n",
       " 'ที่',\n",
       " 'ศูนย์',\n",
       " 'กิฟฟารีน',\n",
       " 'จ',\n",
       " 'สกลนคร',\n",
       " 'ได้',\n",
       " 'มี',\n",
       " 'ใบ',\n",
       " 'อนุ',\n",
       " 'ญาติ',\n",
       " 'ขับขี่',\n",
       " 'รถจักรยานยนต์',\n",
       " 'มี',\n",
       " 'รถจักรยานยนต์',\n",
       " 'เป็น',\n",
       " 'ของ',\n",
       " 'ตัวเอง',\n",
       " 'มี',\n",
       " 'ความ',\n",
       " 'ขยัน',\n",
       " 'อดทน',\n",
       " 'ซื่อสัตย์',\n",
       " 'ต่อ',\n",
       " 'องค์กร',\n",
       " 'เริ่ม',\n",
       " 'งาน',\n",
       " 'ได้',\n",
       " 'ทันที',\n",
       " 'จะ',\n",
       " 'พ',\n",
       " 'จาร',\n",
       " 'ณา',\n",
       " 'เป็นพิเศษ',\n",
       " 'ทำงาน',\n",
       " 'จส',\n",
       " 'เวลา',\n",
       " 'มี',\n",
       " 'เบี้ย',\n",
       " 'ขยัน',\n",
       " 'และ',\n",
       " 'สวัสดิ',\n",
       " 'การตาม',\n",
       " 'ประกันสังคม',\n",
       " 'มี',\n",
       " 'ความมั่นคง',\n",
       " 'ใน',\n",
       " 'ตำแหน่งหน้าที่',\n",
       " 'ซอย',\n",
       " 'รามคำแหง',\n",
       " 'ใกล้',\n",
       " 'เซเว่น',\n",
       " 'กลาง',\n",
       " 'ซอย',\n",
       " 'ถนน',\n",
       " 'รามคำแหง',\n",
       " 'แขวง',\n",
       " 'พลับพลา',\n",
       " 'เขต',\n",
       " 'วังทองหลาง',\n",
       " 'กรุงเทพมหานคร']"
      ]
     },
     "execution_count": 23,
     "metadata": {
      "tags": []
     },
     "output_type": "execute_result"
    }
   ],
   "source": [
    "#eng, thai mixed\n",
    "processed_docs[3]"
   ]
  },
  {
   "cell_type": "code",
   "execution_count": null,
   "metadata": {
    "colab": {
     "base_uri": "https://localhost:8080/"
    },
    "id": "l6pP4IPNMdRK",
    "outputId": "5af54102-7c64-44f6-f08a-2ef9e08b9076"
   },
   "outputs": [
    {
     "name": "stdout",
     "output_type": "stream",
     "text": [
      "runime:  10.263946713999985\n"
     ]
    }
   ],
   "source": [
    "#create maping btw a word and an integer id\n",
    "start = timeit.default_timer()\n",
    "dictionary = gensim.corpora.Dictionary(processed_docs)\n",
    "stop = timeit.default_timer()\n",
    "print('runime: ', stop - start)  "
   ]
  },
  {
   "cell_type": "code",
   "execution_count": null,
   "metadata": {
    "colab": {
     "base_uri": "https://localhost:8080/",
     "height": 35
    },
    "id": "5numgZsLMkxj",
    "outputId": "debd594d-993b-465c-a6d8-e28dc774d5d9"
   },
   "outputs": [
    {
     "data": {
      "application/vnd.google.colaboratory.intrinsic+json": {
       "type": "string"
      },
      "text/plain": [
       "'abl'"
      ]
     },
     "execution_count": 25,
     "metadata": {
      "tags": []
     },
     "output_type": "execute_result"
    }
   ],
   "source": [
    "dictionary[0]"
   ]
  },
  {
   "cell_type": "code",
   "execution_count": null,
   "metadata": {
    "colab": {
     "base_uri": "https://localhost:8080/"
    },
    "id": "dCnaYx_UMnXQ",
    "outputId": "ca0a4f2b-9f12-4ca6-ccc5-c8881bbbffdc"
   },
   "outputs": [
    {
     "name": "stdout",
     "output_type": "stream",
     "text": [
      "0 abl\n",
      "1 advantag\n",
      "2 allow\n",
      "3 aspect\n",
      "4 bachelor\n",
      "5 benefit\n",
      "6 client\n",
      "7 command\n",
      "8 commiss\n",
      "9 complaint\n",
      "10 contact\n"
     ]
    }
   ],
   "source": [
    "count = 0\n",
    "for k, v in dictionary.iteritems():\n",
    "    print(k, v)\n",
    "    count += 1\n",
    "    if count > 10:\n",
    "        break"
   ]
  },
  {
   "cell_type": "code",
   "execution_count": null,
   "metadata": {
    "colab": {
     "base_uri": "https://localhost:8080/"
    },
    "id": "JMviAkXxMpgN",
    "outputId": "7a90122c-41fe-4137-b87d-6aeea05ac401"
   },
   "outputs": [
    {
     "name": "stdout",
     "output_type": "stream",
     "text": [
      "runime:  0.11493839100000969\n"
     ]
    }
   ],
   "source": [
    "#fillter words that appear less than no_bow docs + more than no_above (fraction)\n",
    "# and keep the first most frequent words = keep_n\n",
    "\n",
    "#keep_n = English + Thai so 2*100000 = 200000 ?\n",
    "\n",
    "start = timeit.default_timer()\n",
    "dictionary.filter_extremes(no_below=15, no_above=0.5, keep_n=100000)\n",
    "stop = timeit.default_timer()\n",
    "print('runime: ', stop - start)  "
   ]
  },
  {
   "cell_type": "code",
   "execution_count": null,
   "metadata": {
    "colab": {
     "base_uri": "https://localhost:8080/"
    },
    "id": "7yxSniBvMrwx",
    "outputId": "faff980c-d0ef-4783-a797-ecd07d9b09ae"
   },
   "outputs": [
    {
     "name": "stdout",
     "output_type": "stream",
     "text": [
      "runime:  7.962516048999987\n"
     ]
    }
   ],
   "source": [
    "#doc2bow = list of (id of a word, no_appear in a doc) \n",
    "start = timeit.default_timer()\n",
    "bow_corpus = [dictionary.doc2bow(doc) for doc in processed_docs]\n",
    "stop = timeit.default_timer()\n",
    "print('runime: ', stop - start)  "
   ]
  },
  {
   "cell_type": "code",
   "execution_count": null,
   "metadata": {
    "colab": {
     "base_uri": "https://localhost:8080/"
    },
    "id": "wooiqhZCZwCs",
    "outputId": "f656318b-a04b-4175-ffb8-b8b911f7a732"
   },
   "outputs": [
    {
     "data": {
      "text/plain": [
       "[(0, 1),\n",
       " (1, 1),\n",
       " (2, 1),\n",
       " (3, 2),\n",
       " (4, 1),\n",
       " (5, 1),\n",
       " (6, 1),\n",
       " (7, 1),\n",
       " (8, 1),\n",
       " (9, 1),\n",
       " (10, 1),\n",
       " (11, 1),\n",
       " (12, 3),\n",
       " (13, 2),\n",
       " (14, 1),\n",
       " (15, 1),\n",
       " (16, 1),\n",
       " (17, 1),\n",
       " (18, 1),\n",
       " (19, 4),\n",
       " (20, 1),\n",
       " (21, 1),\n",
       " (22, 1),\n",
       " (23, 1),\n",
       " (24, 1),\n",
       " (25, 1),\n",
       " (26, 1),\n",
       " (27, 1),\n",
       " (28, 1),\n",
       " (29, 1),\n",
       " (30, 1),\n",
       " (31, 1),\n",
       " (32, 1),\n",
       " (33, 1),\n",
       " (34, 1),\n",
       " (35, 1),\n",
       " (36, 1),\n",
       " (37, 1),\n",
       " (38, 5),\n",
       " (39, 1),\n",
       " (40, 2),\n",
       " (41, 1),\n",
       " (42, 1),\n",
       " (43, 1),\n",
       " (44, 1),\n",
       " (45, 1),\n",
       " (46, 1),\n",
       " (47, 1),\n",
       " (48, 1),\n",
       " (49, 1),\n",
       " (50, 1),\n",
       " (51, 1),\n",
       " (52, 1),\n",
       " (53, 1),\n",
       " (54, 1),\n",
       " (55, 1),\n",
       " (56, 1),\n",
       " (57, 2),\n",
       " (58, 2),\n",
       " (59, 1),\n",
       " (60, 2),\n",
       " (61, 1),\n",
       " (62, 2),\n",
       " (63, 4),\n",
       " (64, 1),\n",
       " (65, 2),\n",
       " (66, 3),\n",
       " (67, 1),\n",
       " (68, 1),\n",
       " (69, 1),\n",
       " (70, 2),\n",
       " (71, 1)]"
      ]
     },
     "execution_count": 29,
     "metadata": {
      "tags": []
     },
     "output_type": "execute_result"
    }
   ],
   "source": [
    "bow_corpus[0]"
   ]
  },
  {
   "cell_type": "code",
   "execution_count": null,
   "metadata": {
    "colab": {
     "base_uri": "https://localhost:8080/"
    },
    "id": "EP57eLetMuCz",
    "outputId": "097e83dd-9c8c-474d-fc80-e5945feec2d9"
   },
   "outputs": [
    {
     "name": "stdout",
     "output_type": "stream",
     "text": [
      "Word 0 (\"abl\") appears 1 time.\n",
      "Word 1 (\"advantag\") appears 1 time.\n",
      "Word 2 (\"allow\") appears 1 time.\n",
      "Word 3 (\"aspect\") appears 2 time.\n",
      "Word 4 (\"bachelor\") appears 1 time.\n",
      "Word 5 (\"benefit\") appears 1 time.\n",
      "Word 6 (\"client\") appears 1 time.\n",
      "Word 7 (\"command\") appears 1 time.\n",
      "Word 8 (\"commiss\") appears 1 time.\n",
      "Word 9 (\"complaint\") appears 1 time.\n",
      "Word 10 (\"contact\") appears 1 time.\n",
      "Word 11 (\"control\") appears 1 time.\n",
      "Word 12 (\"custom\") appears 3 time.\n",
      "Word 13 (\"day\") appears 2 time.\n",
      "Word 14 (\"deal\") appears 1 time.\n",
      "Word 15 (\"degre\") appears 1 time.\n",
      "Word 16 (\"english\") appears 1 time.\n",
      "Word 17 (\"ensur\") appears 1 time.\n",
      "Word 18 (\"equival\") appears 1 time.\n",
      "Word 19 (\"experi\") appears 4 time.\n",
      "Word 20 (\"femal\") appears 1 time.\n",
      "Word 21 (\"field\") appears 1 time.\n",
      "Word 22 (\"financi\") appears 1 time.\n",
      "Word 23 (\"fund\") appears 1 time.\n",
      "Word 24 (\"good\") appears 1 time.\n",
      "Word 25 (\"great\") appears 1 time.\n",
      "Word 26 (\"health\") appears 1 time.\n",
      "Word 27 (\"high\") appears 1 time.\n",
      "Word 28 (\"includ\") appears 1 time.\n",
      "Word 29 (\"inquiri\") appears 1 time.\n",
      "Word 30 (\"insur\") appears 1 time.\n",
      "Word 31 (\"know\") appears 1 time.\n",
      "Word 32 (\"languag\") appears 1 time.\n",
      "Word 33 (\"life\") appears 1 time.\n",
      "Word 34 (\"line\") appears 1 time.\n",
      "Word 35 (\"look\") appears 1 time.\n",
      "Word 36 (\"luxuri\") appears 1 time.\n",
      "Word 37 (\"maintain\") appears 1 time.\n",
      "Word 38 (\"manag\") appears 5 time.\n",
      "Word 39 (\"monitor\") appears 1 time.\n",
      "Word 40 (\"month\") appears 2 time.\n",
      "Word 41 (\"organ\") appears 1 time.\n",
      "Word 42 (\"overal\") appears 1 time.\n",
      "Word 43 (\"overse\") appears 1 time.\n",
      "Word 44 (\"overview\") appears 1 time.\n",
      "Word 45 (\"peopl\") appears 1 time.\n",
      "Word 46 (\"perform\") appears 1 time.\n",
      "Word 47 (\"posit\") appears 1 time.\n",
      "Word 48 (\"prefer\") appears 1 time.\n",
      "Word 49 (\"previous\") appears 1 time.\n",
      "Word 50 (\"price\") appears 1 time.\n",
      "Word 51 (\"prior\") appears 1 time.\n",
      "Word 52 (\"provid\") appears 1 time.\n",
      "Word 53 (\"qualif\") appears 1 time.\n",
      "Word 54 (\"queri\") appears 1 time.\n",
      "Word 55 (\"record\") appears 1 time.\n",
      "Word 56 (\"resourc\") appears 1 time.\n",
      "Word 57 (\"respons\") appears 2 time.\n",
      "Word 58 (\"retail\") appears 2 time.\n",
      "Word 59 (\"role\") appears 1 time.\n",
      "Word 60 (\"sale\") appears 2 time.\n",
      "Word 61 (\"servic\") appears 1 time.\n",
      "Word 62 (\"shop\") appears 2 time.\n",
      "Word 63 (\"staff\") appears 4 time.\n",
      "Word 64 (\"statist\") appears 1 time.\n",
      "Word 65 (\"stock\") appears 2 time.\n",
      "Word 66 (\"store\") appears 3 time.\n",
      "Word 67 (\"supervis\") appears 1 time.\n",
      "Word 68 (\"team\") appears 1 time.\n",
      "Word 69 (\"week\") appears 1 time.\n",
      "Word 70 (\"work\") appears 2 time.\n",
      "Word 71 (\"year\") appears 1 time.\n"
     ]
    }
   ],
   "source": [
    "bow_doc_0 = bow_corpus[0]\n",
    "for i in range(len(bow_doc_0)):\n",
    "    print(\"Word {} (\\\"{}\\\") appears {} time.\".format(bow_doc_0[i][0], \n",
    "                                               dictionary[bow_doc_0[i][0]], \n",
    "bow_doc_0[i][1]))"
   ]
  },
  {
   "cell_type": "code",
   "execution_count": null,
   "metadata": {
    "colab": {
     "base_uri": "https://localhost:8080/"
    },
    "id": "ZPcIWAXQMwmt",
    "outputId": "176065a0-b143-4286-b034-8bfdd5a47c37"
   },
   "outputs": [
    {
     "data": {
      "text/plain": [
       "100000"
      ]
     },
     "execution_count": 31,
     "metadata": {
      "tags": []
     },
     "output_type": "execute_result"
    }
   ],
   "source": [
    "len(bow_corpus)"
   ]
  },
  {
   "cell_type": "markdown",
   "metadata": {
    "id": "K7W3W_QYM0Wx"
   },
   "source": [
    "# modelling"
   ]
  },
  {
   "cell_type": "code",
   "execution_count": null,
   "metadata": {
    "colab": {
     "base_uri": "https://localhost:8080/"
    },
    "id": "VcGt8KhfMygh",
    "outputId": "70c991f6-3c50-40a8-9014-d732d73ef759"
   },
   "outputs": [
    {
     "name": "stdout",
     "output_type": "stream",
     "text": [
      "runime:  1.4007419590000154\n"
     ]
    }
   ],
   "source": [
    "#model for calculate weight(related to fraction of docs that a word occur vs a word frequency in a doc)\n",
    "#extract main words that represent the doc \n",
    "# weight = (a word frequency in a doc) + inv(doc frequency)\n",
    "# ex assume topic = [salad, pizza], f(food) high in doc frequency (food occur in all topics)\n",
    "# but vegetable occur most only in salad so f(vegetable) only high in a word frequency but low in doc frequency \n",
    "start = timeit.default_timer()\n",
    "from gensim import corpora, models\n",
    "tfidf = models.TfidfModel(bow_corpus)\n",
    "corpus_tfidf = tfidf[bow_corpus]\n",
    "stop = timeit.default_timer()\n",
    "print('runime: ', stop - start)  "
   ]
  },
  {
   "cell_type": "code",
   "execution_count": null,
   "metadata": {
    "colab": {
     "base_uri": "https://localhost:8080/"
    },
    "id": "CApaDX2cM71W",
    "outputId": "f825bd67-8b88-4e8f-f9f6-ffcd548384c0"
   },
   "outputs": [
    {
     "name": "stdout",
     "output_type": "stream",
     "text": [
      "[(0, 0.0660343652403194),\n",
      " (1, 0.0792960511720394),\n",
      " (2, 0.10320772597896419),\n",
      " (3, 0.22422907547479434),\n",
      " (4, 0.04870830205531922),\n",
      " (5, 0.07277731243740862),\n",
      " (6, 0.06903867115236706),\n",
      " (7, 0.06525808805379475),\n",
      " (8, 0.1134322857469969),\n",
      " (9, 0.11277515302759963),\n",
      " (10, 0.06199174506644908),\n",
      " (11, 0.0687047005806943),\n",
      " (12, 0.15911748725350858),\n",
      " (13, 0.22274833887482265),\n",
      " (14, 0.09923052270624183),\n",
      " (15, 0.0466129561938495),\n",
      " (16, 0.045260624514608605),\n",
      " (17, 0.05522490116900568),\n",
      " (18, 0.12093210769105685),\n",
      " (19, 0.16721159477587957),\n",
      " (20, 0.07489919482219673),\n",
      " (21, 0.054957063116067496),\n",
      " (22, 0.07819253187545576),\n",
      " (23, 0.09779421802316507),\n",
      " (24, 0.04740299586592918),\n",
      " (25, 0.1144504060957578),\n",
      " (26, 0.09782831695997106),\n",
      " (27, 0.07215473735235414),\n",
      " (28, 0.06300377166999435),\n",
      " (29, 0.12169378000408942),\n",
      " (30, 0.08767792263472515),\n",
      " (31, 0.12218512564839135),\n",
      " (32, 0.09136151506745026),\n",
      " (33, 0.10511069100433586),\n",
      " (34, 0.07431550458158145),\n",
      " (35, 0.09003234661942383),\n",
      " (36, 0.15026819660897758),\n",
      " (37, 0.06398628547539176),\n",
      " (38, 0.19346138368730434),\n",
      " (39, 0.06629839199470886),\n",
      " (40, 0.13947804135670377),\n",
      " (41, 0.07070467468383694),\n",
      " (42, 0.0950692311543113),\n",
      " (43, 0.09958111378479467),\n",
      " (44, 0.15187336077397573),\n",
      " (45, 0.09354103816193476),\n",
      " (46, 0.05864360794684378),\n",
      " (47, 0.06520651163068904),\n",
      " (48, 0.07292447354115555),\n",
      " (49, 0.12991592641037475),\n",
      " (50, 0.09184425536223928),\n",
      " (51, 0.13247851095985755),\n",
      " (52, 0.05483172181366967),\n",
      " (53, 0.041631550762894265),\n",
      " (54, 0.11652152698309717),\n",
      " (55, 0.082314690708628),\n",
      " (56, 0.07314242014898255),\n",
      " (57, 0.1143965396332537),\n",
      " (58, 0.20451804738655743),\n",
      " (59, 0.08002259825351364),\n",
      " (60, 0.10924689566119954),\n",
      " (61, 0.05571545379458353),\n",
      " (62, 0.2259574368753687),\n",
      " (63, 0.3116901657266649),\n",
      " (64, 0.12381085834848826),\n",
      " (65, 0.17338171638694763),\n",
      " (66, 0.2925353873900578),\n",
      " (67, 0.09253004288122463),\n",
      " (68, 0.049735534876018055),\n",
      " (69, 0.09439323981256757),\n",
      " (70, 0.08182894725486813),\n",
      " (71, 0.04338176864802563)]\n",
      "[(4, 0.0753993395439721),\n",
      " (15, 0.0721557919883299),\n",
      " (16, 0.07006241342335036),\n",
      " (19, 0.06470993279480776),\n",
      " (22, 0.12104025416415659),\n",
      " (38, 0.11978952204672677),\n",
      " (40, 0.10795441182940828),\n",
      " (47, 0.10093819130333194),\n",
      " (70, 0.06333467107504934),\n",
      " (71, 0.1343079748744114),\n",
      " (72, 0.3969025501534527),\n",
      " (73, 0.14757855749797547),\n",
      " (74, 0.12495761095625957),\n",
      " (75, 0.17915769713261673),\n",
      " (76, 0.1656872696103001),\n",
      " (77, 0.17546201228387015),\n",
      " (78, 0.07667559364706959),\n",
      " (79, 0.17152250471756303),\n",
      " (80, 0.09375662030029991),\n",
      " (81, 0.12406815566881413),\n",
      " (82, 0.0930627690162744),\n",
      " (83, 0.10754074093034127),\n",
      " (84, 0.0884028877690623),\n",
      " (85, 0.1252219465266619),\n",
      " (86, 0.2591292097288221),\n",
      " (87, 0.17511054269386434),\n",
      " (88, 0.1349929931596826),\n",
      " (89, 0.09909212832910574),\n",
      " (90, 0.19885668703096973),\n",
      " (91, 0.26982008491014425),\n",
      " (92, 0.20129004326239758),\n",
      " (93, 0.20623377274384871),\n",
      " (94, 0.07547050381376497),\n",
      " (95, 0.17818411153826283),\n",
      " (96, 0.16953672927558475),\n",
      " (97, 0.07738323951813991),\n",
      " (98, 0.12573738224153722),\n",
      " (99, 0.20785878859557239),\n",
      " (100, 0.1777060590302805),\n",
      " (101, 0.18609667518362308)]\n",
      "[(102, 0.15781909321199156),\n",
      " (103, 0.11032276815707645),\n",
      " (104, 0.02342723089479174),\n",
      " (105, 0.10918090927915365),\n",
      " (106, 0.05718845484097755),\n",
      " (107, 0.23717483649526883),\n",
      " (108, 0.06519117309307111),\n",
      " (109, 0.08333246388419872),\n",
      " (110, 0.05281633454654659),\n",
      " (111, 0.049351507602191695),\n",
      " (112, 0.1289369898235963),\n",
      " (113, 0.12116206935648755),\n",
      " (114, 0.06554553134012318),\n",
      " (115, 0.09700652271166166),\n",
      " (116, 0.07396795556664591),\n",
      " (117, 0.15839535013578876),\n",
      " (118, 0.11495976716330518),\n",
      " (119, 0.05342288728520529),\n",
      " (120, 0.04851493397210999),\n",
      " (121, 0.11544172995642162),\n",
      " (122, 0.14188784230507254),\n",
      " (123, 0.046799959423622826),\n",
      " (124, 0.08096623993758865),\n",
      " (125, 0.041809780802593),\n",
      " (126, 0.05861355849360393),\n",
      " (127, 0.1622243734873395),\n",
      " (128, 0.07415471975261663),\n",
      " (129, 0.0655398721708723),\n",
      " (130, 0.04474118835995858),\n",
      " (131, 0.19403775617671715),\n",
      " (132, 0.11627136955604588),\n",
      " (133, 0.07628566371671915),\n",
      " (134, 0.08977278984195297),\n",
      " (135, 0.1250342687512673),\n",
      " (136, 0.1665008290860587),\n",
      " (137, 0.10446400332737896),\n",
      " (138, 0.106227978521153),\n",
      " (139, 0.03451446028997611),\n",
      " (140, 0.05541100979223864),\n",
      " (141, 0.05102252765291379),\n",
      " (142, 0.0598594674638655),\n",
      " (143, 0.11638046071147896),\n",
      " (144, 0.06816338538343815),\n",
      " (145, 0.14620074080034898),\n",
      " (146, 0.21161694594259794),\n",
      " (147, 0.06507402282685003),\n",
      " (148, 0.05438338909660105),\n",
      " (149, 0.09216363484092416),\n",
      " (150, 0.15173921530865023),\n",
      " (151, 0.08336410805799015),\n",
      " (152, 0.16374025155693142),\n",
      " (153, 0.16850134964408128),\n",
      " (154, 0.04739074717894134),\n",
      " (155, 0.1251023269717266),\n",
      " (156, 0.11216920073309745),\n",
      " (157, 0.05030446346347791),\n",
      " (158, 0.08503183064339843),\n",
      " (159, 0.053923597164681425),\n",
      " (160, 0.2871408648484605),\n",
      " (161, 0.10573914982915092),\n",
      " (162, 0.13056689634810692),\n",
      " (163, 0.1204583782382716),\n",
      " (164, 0.07517457670657143),\n",
      " (165, 0.12182269433382681),\n",
      " (166, 0.23011567948980163),\n",
      " (167, 0.2151529895700578),\n",
      " (168, 0.15732422183836794),\n",
      " (169, 0.16669469953801164),\n",
      " (170, 0.07951864186792502),\n",
      " (171, 0.08260386951202474),\n",
      " (172, 0.025539220698514793),\n",
      " (173, 0.02541585016268952),\n",
      " (174, 0.08815554556673771),\n",
      " (175, 0.07699053236249749)]\n",
      "[(5, 0.06694950951905936),\n",
      " (10, 0.05702762011167657),\n",
      " (53, 0.03829781302367692),\n",
      " (111, 0.02052226524430028),\n",
      " (113, 0.10076774735739655),\n",
      " (114, 0.05451273304894406),\n",
      " (115, 0.08067812661623933),\n",
      " (123, 0.03892246569064994),\n",
      " (128, 0.06167279995362766),\n",
      " (129, 0.05450802644612393),\n",
      " (130, 0.03721023245204745),\n",
      " (139, 0.17222936682160508),\n",
      " (144, 0.05668994293200699),\n",
      " (149, 0.038325203260868225),\n",
      " (157, 0.041837082282927415),\n",
      " (164, 0.06252099187064115),\n",
      " (165, 0.1013171741802304),\n",
      " (172, 0.04248078219068373),\n",
      " (173, 0.042275573232939526),\n",
      " (176, 0.07710618361871592),\n",
      " (177, 0.11984066284077226),\n",
      " (178, 0.11589312728882213),\n",
      " (179, 0.12826668860457022),\n",
      " (180, 0.02195332580537503),\n",
      " (181, 0.1492702427635682),\n",
      " (182, 0.05445866327115726),\n",
      " (183, 0.1584125001435062),\n",
      " (184, 0.08424188892919637),\n",
      " (185, 0.1652542886671214),\n",
      " (186, 0.20290460435993446),\n",
      " (187, 0.10457965952933398),\n",
      " (188, 0.14406475720424816),\n",
      " (189, 0.15083888575627516),\n",
      " (190, 0.11661912483137639),\n",
      " (191, 0.17209607719073666),\n",
      " (192, 0.05015903223322475),\n",
      " (193, 0.07614604904589295),\n",
      " (194, 0.08385888397287501),\n",
      " (195, 0.07014450748813952),\n",
      " (196, 0.08252288065402011),\n",
      " (197, 0.10404477032344751),\n",
      " (198, 0.08336289802968903),\n",
      " (199, 0.14542412512212133),\n",
      " (200, 0.1963201715542126),\n",
      " (201, 0.08197144420787603),\n",
      " (202, 0.13831481449788485),\n",
      " (203, 0.20523038699762702),\n",
      " (204, 0.28978411351358474),\n",
      " (205, 0.026841316703821366),\n",
      " (206, 0.16988949895763406),\n",
      " (207, 0.10071842318353436),\n",
      " (208, 0.3368599884028206),\n",
      " (209, 0.11954884980576833),\n",
      " (210, 0.11441660413909752),\n",
      " (211, 0.10588367355818432),\n",
      " (212, 0.1497817133144207),\n",
      " (213, 0.11652316317876286),\n",
      " (214, 0.07145130860777395),\n",
      " (215, 0.08621062634945655),\n",
      " (216, 0.1455319822864519),\n",
      " (217, 0.10313672022349382),\n",
      " (218, 0.06211902516415844),\n",
      " (219, 0.20642494080720725),\n",
      " (220, 0.07277824325993923),\n",
      " (221, 0.043189707769518984),\n",
      " (222, 0.050694160249080876),\n",
      " (223, 0.08131599498391415),\n",
      " (224, 0.057817560416942616),\n",
      " (225, 0.07878522908163804),\n",
      " (226, 0.07101396134713346),\n",
      " (227, 0.060986312804991574),\n",
      " (228, 0.10365135312578673),\n",
      " (229, 0.08095553849347388),\n",
      " (230, 0.043086474700693225),\n",
      " (231, 0.06345533910288494)]\n",
      "[(11, 0.18813807537690058),\n",
      " (16, 0.06196989954518318),\n",
      " (19, 0.057235653739745686),\n",
      " (24, 0.1298063790968779),\n",
      " (39, 0.09077437034907014),\n",
      " (70, 0.05601924073800114),\n",
      " (78, 0.06781922865210042),\n",
      " (80, 0.08292732233755859),\n",
      " (81, 0.10973774336169448),\n",
      " (82, 0.08231361389861938),\n",
      " (89, 0.2629396678573381),\n",
      " (94, 0.13350666388562243),\n",
      " (232, 0.12093054768623289),\n",
      " (233, 0.10654599295681941),\n",
      " (234, 0.15150570820459594),\n",
      " (235, 0.1009758375757753),\n",
      " (236, 0.14090945716928677),\n",
      " (237, 0.10386385689222873),\n",
      " (238, 0.06503631095143056),\n",
      " (239, 0.1225407795640195),\n",
      " (240, 0.11117322200630722),\n",
      " (241, 0.2824664819086188),\n",
      " (242, 0.12677911869974612),\n",
      " (243, 0.13833233566573738),\n",
      " (244, 0.08494405311585411),\n",
      " (245, 0.12980475204713363),\n",
      " (246, 0.09630910880179998),\n",
      " (247, 0.14646084289779338),\n",
      " (248, 0.19239239046451187),\n",
      " (249, 0.10085945054570063),\n",
      " (250, 0.19767787155108266),\n",
      " (251, 0.0969220816163769),\n",
      " (252, 0.13962486244422317),\n",
      " (253, 0.12310950869032701),\n",
      " (254, 0.16750238871059056),\n",
      " (255, 0.11519027634172119),\n",
      " (256, 0.13077382221668052),\n",
      " (257, 0.08288681186830982),\n",
      " (258, 0.1637963561713565),\n",
      " (259, 0.2602217191245462),\n",
      " (260, 0.12336267383497958),\n",
      " (261, 0.06372281926784576),\n",
      " (262, 0.0742690064530887),\n",
      " (263, 0.14470848259202684),\n",
      " (264, 0.12747991713637094),\n",
      " (265, 0.1385622441489179),\n",
      " (266, 0.09663325886318909),\n",
      " (267, 0.3326150766265843),\n",
      " (268, 0.07836646608878509),\n",
      " (269, 0.12859273612542355),\n",
      " (270, 0.08280592975320802)]\n"
     ]
    }
   ],
   "source": [
    "from pprint import pprint\n",
    "cou=0\n",
    "for doc in corpus_tfidf:\n",
    "    pprint(doc)\n",
    "    cou+=1\n",
    "    if cou>=5:\n",
    "      break"
   ]
  },
  {
   "cell_type": "code",
   "execution_count": null,
   "metadata": {
    "colab": {
     "base_uri": "https://localhost:8080/"
    },
    "id": "4XJRdGO4M98w",
    "outputId": "36ff72e5-1301-441b-9e71-d8ce4ab1ba60"
   },
   "outputs": [
    {
     "name": "stdout",
     "output_type": "stream",
     "text": [
      "runime:  106.42191962699997\n"
     ]
    }
   ],
   "source": [
    "#run model using corpus_tfidf\n",
    "\n",
    "#num_topic = 20 ?\n",
    "\n",
    "start = timeit.default_timer()\n",
    "lda_model_tfidf = gensim.models.LdaMulticore(corpus_tfidf, num_topics=20, id2word=dictionary, workers=None)\n",
    "stop = timeit.default_timer()\n",
    "print('runime: ', stop - start)  "
   ]
  },
  {
   "cell_type": "code",
   "execution_count": null,
   "metadata": {
    "colab": {
     "base_uri": "https://localhost:8080/"
    },
    "id": "JzIbaZo6NA51",
    "outputId": "546e4cb5-3d8e-449a-eaea-efedcd25261f"
   },
   "outputs": [
    {
     "name": "stdout",
     "output_type": "stream",
     "text": [
      "Topic: 0 Word: 0.011*\"ลูกค้า\" + 0.010*\"การ\" + 0.008*\"ใน\" + 0.008*\"ของ\" + 0.008*\"ให้\" + 0.008*\"ขาย\" + 0.007*\"กับ\" + 0.006*\"เพื่อ\" + 0.006*\"สินค้า\" + 0.006*\"การตลาด\"\n",
      "Topic: 1 Word: 0.009*\"เซ็นทรัล\" + 0.008*\"ภูเก็ต\" + 0.007*\"จตุจักร\" + 0.007*\"ร้าน\" + 0.006*\"ลูกค้า\" + 0.006*\"รัชดาภิเษก\" + 0.006*\"เอ๋\" + 0.006*\"การบริหารธุรกิจ\" + 0.005*\"ซ่อม\" + 0.005*\"ชงกาแฟ\"\n",
      "Topic: 2 Word: 0.015*\"นนท์\" + 0.013*\"south\" + 0.012*\"กุ๊ก\" + 0.012*\"yannawa\" + 0.011*\"รัชดาภิเษก\" + 0.011*\"sathorn\" + 0.011*\"ตำบล\" + 0.010*\"อรุณ\" + 0.009*\"ครัว\" + 0.008*\"phayathai\"\n",
      "Topic: 3 Word: 0.012*\"commerci\" + 0.010*\"domest\" + 0.009*\"bldg\" + 0.008*\"verbal\" + 0.008*\"segment\" + 0.007*\"adapt\" + 0.007*\"trad\" + 0.007*\"user\" + 0.007*\"ปฐมวัย\" + 0.007*\"centr\"\n",
      "Topic: 4 Word: 0.022*\"สินค้า\" + 0.012*\"ยอดขาย\" + 0.011*\"สต็อก\" + 0.010*\"ให้\" + 0.009*\"คีย์\" + 0.009*\"ลง\" + 0.009*\"ครบถ้วน\" + 0.009*\"แนะนำ\" + 0.009*\"เช็ค\" + 0.009*\"ค้าปลีก\"\n",
      "Topic: 5 Word: 0.026*\"วัน\" + 0.018*\"บาท\" + 0.017*\"ทำงาน\" + 0.016*\"ชั่วโมง\" + 0.013*\"ศุกร์\" + 0.013*\"จันทร์\" + 0.012*\"เสาร์\" + 0.012*\"เวลา\" + 0.011*\"สัปดาห์\" + 0.010*\"เดือน\"\n",
      "Topic: 6 Word: 0.019*\"คลินิก\" + 0.015*\"แพทย์\" + 0.014*\"ดำริ\" + 0.013*\"ฌาปนกิจ\" + 0.013*\"ท\" + 0.012*\"ตำบล\" + 0.011*\"คนไข้\" + 0.010*\"vehicl\" + 0.009*\"myanmar\" + 0.009*\"สื่อการเรียนการสอน\"\n",
      "Topic: 7 Word: 0.028*\"ความปลอดภัย\" + 0.009*\"เ\" + 0.008*\"เละ\" + 0.007*\"อนามัย\" + 0.006*\"อาชีว\" + 0.006*\"ด์\" + 0.006*\"ไซ\" + 0.006*\"siam\" + 0.006*\"จุด\" + 0.006*\"พนักงาน\"\n",
      "Topic: 8 Word: 0.026*\"ทำความสะอาด\" + 0.022*\"จริยธรรม\" + 0.021*\"อุปกรณ์\" + 0.017*\"มาตรฐาน\" + 0.012*\"ต้องตาม\" + 0.012*\"ถูก\" + 0.011*\"eastern\" + 0.010*\"เชิญชวน\" + 0.009*\"ร้าน\" + 0.009*\"seaboard\"\n",
      "Topic: 9 Word: 0.016*\"ออกแบบ\" + 0.009*\"bangrak\" + 0.009*\"graphic\" + 0.008*\"silom\" + 0.008*\"http\" + 0.007*\"illustr\" + 0.007*\"enclos\" + 0.007*\"adob\" + 0.007*\"sukhumvit\" + 0.007*\"photoshop\"\n",
      "Topic: 10 Word: 0.035*\"japanes\" + 0.017*\"translat\" + 0.014*\"district\" + 0.013*\"sukhumvit\" + 0.012*\"interpret\" + 0.011*\"invest\" + 0.011*\"klongton\" + 0.010*\"languag\" + 0.009*\"north\" + 0.009*\"facil\"\n",
      "Topic: 11 Word: 0.011*\"sale\" + 0.010*\"manag\" + 0.010*\"market\" + 0.008*\"busi\" + 0.008*\"custom\" + 0.008*\"work\" + 0.007*\"skill\" + 0.007*\"experi\" + 0.007*\"develop\" + 0.006*\"team\"\n",
      "Topic: 12 Word: 0.012*\"เอกสาร\" + 0.011*\"ประสานงาน\" + 0.009*\"กับ\" + 0.008*\"รับมอบหมาย\" + 0.008*\"สินค้า\" + 0.008*\"จัดซื้อ\" + 0.008*\"อื่นๆ\" + 0.007*\"งาน\" + 0.007*\"ติดต่อ\" + 0.007*\"ลูกค้า\"\n",
      "Topic: 13 Word: 0.013*\"มี\" + 0.009*\"ปี\" + 0.009*\"จำกัด\" + 0.008*\"สามารถ\" + 0.008*\"บางนา\" + 0.007*\"ขึ้นไป\" + 0.007*\"คุณสมบัติ\" + 0.007*\"มีประสบการณ์\" + 0.007*\"ดี\" + 0.006*\"อายุ\"\n",
      "Topic: 14 Word: 0.009*\"ประจำปี\" + 0.007*\"พนักงาน\" + 0.007*\"ประกัน\" + 0.007*\"ตัวจริง\" + 0.007*\"ห้วยขวาง\" + 0.006*\"สวัสดิการ\" + 0.006*\"มี\" + 0.006*\"งาน\" + 0.006*\"แตง\" + 0.006*\"สามารถ\"\n",
      "Topic: 15 Word: 0.014*\"account\" + 0.009*\"manag\" + 0.008*\"prepar\" + 0.008*\"report\" + 0.007*\"document\" + 0.007*\"control\" + 0.007*\"financi\" + 0.006*\"ensur\" + 0.006*\"work\" + 0.006*\"custom\"\n",
      "Topic: 16 Word: 0.028*\"เที่ยว\" + 0.013*\"รู้เส้น\" + 0.013*\"ของขวัญ\" + 0.013*\"งานปี\" + 0.011*\"restaur\" + 0.010*\"คุณธรรม\" + 0.009*\"ปรับตัว\" + 0.009*\"กู้ยืม\" + 0.008*\"เอ\" + 0.008*\"เสียดอกเบี้ย\"\n",
      "Topic: 17 Word: 0.013*\"ด้านล่าง\" + 0.012*\"squar\" + 0.011*\"amphur\" + 0.010*\"โทรศัพท์มือถือ\" + 0.010*\"tambol\" + 0.010*\"ใบอนุญาตขับขี่\" + 0.009*\"chief\" + 0.009*\"เชียงราย\" + 0.008*\"modul\" + 0.008*\"turn\"\n",
      "Topic: 18 Word: 0.030*\"บัญชี\" + 0.018*\"จัดทำ\" + 0.018*\"จ่าย\" + 0.015*\"ภาษี\" + 0.014*\"เอกสาร\" + 0.013*\"ตรวจสอบ\" + 0.012*\"บันทึก\" + 0.010*\"รายงาน\" + 0.007*\"งบการเงิน\" + 0.007*\"ทำ\"\n",
      "Topic: 19 Word: 0.028*\"สินค้า\" + 0.012*\"ตรวจสอบ\" + 0.010*\"คลังสินค้า\" + 0.009*\"ควบคุม\" + 0.009*\"การ\" + 0.009*\"นับ\" + 0.008*\"ให้\" + 0.007*\"รับ\" + 0.007*\"nonthaburi\" + 0.007*\"bangkhen\"\n"
     ]
    }
   ],
   "source": [
    "for idx, topic in lda_model_tfidf.print_topics(-1):\n",
    "    print('Topic: {} Word: {}'.format(idx, topic))"
   ]
  },
  {
   "cell_type": "markdown",
   "metadata": {
    "id": "cnuOfABlNQDu"
   },
   "source": [
    "# use the model"
   ]
  },
  {
   "cell_type": "code",
   "execution_count": null,
   "metadata": {
    "id": "-y-JqsSVNKc8"
   },
   "outputs": [],
   "source": [
    "def predict_tfid(text):\n",
    "  process_unseen= preprocessAll(text)\n",
    "  dic_unseen=gensim.corpora.Dictionary([process_unseen])\n",
    "  bow_unseen=dic_unseen.doc2bow(process_unseen)\n",
    "  target=bow_unseen\n",
    "  return sorted(lda_model_tfidf[target], key= lambda x:x[1], reverse= True)"
   ]
  },
  {
   "cell_type": "code",
   "execution_count": null,
   "metadata": {
    "colab": {
     "base_uri": "https://localhost:8080/"
    },
    "id": "z5GtCb52NNZ0",
    "outputId": "7ed994d0-eb52-46a5-db9c-1a5d3d6e4978"
   },
   "outputs": [
    {
     "data": {
      "text/plain": [
       "[(11, 0.95)]"
      ]
     },
     "execution_count": 49,
     "metadata": {
      "tags": []
     },
     "output_type": "execute_result"
    }
   ],
   "source": [
    "predict_tfid('ดูแลวางแผนการผลิตในแต่ละหน่วยย่อยของการผลิต ติดตาม แก้ปัญหา และควบคุมการปฏิบัติงานให้เสร็จตามกำหนด')"
   ]
  },
  {
   "cell_type": "markdown",
   "metadata": {
    "id": "wqSOMclnGIAD"
   },
   "source": [
    "# save the model"
   ]
  },
  {
   "cell_type": "code",
   "execution_count": null,
   "metadata": {
    "colab": {
     "base_uri": "https://localhost:8080/"
    },
    "id": "b8KFreUiGK8k",
    "outputId": "681513fb-7ec6-4626-cb7e-714d7d3f7702"
   },
   "outputs": [
    {
     "data": {
      "text/plain": [
       "['non_stem_v1_model.sav']"
      ]
     },
     "execution_count": 38,
     "metadata": {
      "tags": []
     },
     "output_type": "execute_result"
    }
   ],
   "source": [
    "import joblib\n",
    "model=lda_model_tfidf\n",
    "filename = 'non_stem_v1_model.sav'\n",
    "joblib.dump(model, filename)"
   ]
  },
  {
   "cell_type": "markdown",
   "metadata": {
    "id": "nlGiquTHGUfX"
   },
   "source": [
    "# load the model"
   ]
  },
  {
   "cell_type": "code",
   "execution_count": null,
   "metadata": {
    "id": "OrZg4n8-GTwI"
   },
   "outputs": [],
   "source": [
    "loaded_model = joblib.load(filename)"
   ]
  },
  {
   "cell_type": "code",
   "execution_count": null,
   "metadata": {
    "colab": {
     "base_uri": "https://localhost:8080/"
    },
    "id": "lAePrvUvJdgY",
    "outputId": "a119e432-2f16-45c1-a6a8-4f106adc8687"
   },
   "outputs": [
    {
     "data": {
      "text/plain": [
       "<gensim.models.ldamulticore.LdaMulticore at 0x7f40cde7e250>"
      ]
     },
     "execution_count": 43,
     "metadata": {
      "tags": []
     },
     "output_type": "execute_result"
    }
   ],
   "source": [
    "loaded_model"
   ]
  },
  {
   "cell_type": "code",
   "execution_count": null,
   "metadata": {
    "colab": {
     "base_uri": "https://localhost:8080/"
    },
    "id": "g3_6n-OPGwaS",
    "outputId": "f2054bfe-afcd-45dd-b805-1ec27689fd2c"
   },
   "outputs": [
    {
     "data": {
      "text/plain": [
       "[(11, 0.9499999)]"
      ]
     },
     "execution_count": 53,
     "metadata": {
      "tags": []
     },
     "output_type": "execute_result"
    }
   ],
   "source": [
    "text='ดูแลวางแผนการผลิตในแต่ละหน่วยย่อยของการผลิต ติดตาม แก้ปัญหา และควบคุมการปฏิบัติงานให้เสร็จตามกำหนด'\n",
    "process_unseen= preprocessAll(text)\n",
    "dic_unseen=gensim.corpora.Dictionary([process_unseen])\n",
    "bow_unseen=dic_unseen.doc2bow(process_unseen)\n",
    "target=bow_unseen\n",
    "sorted(loaded_model[target], key= lambda x:x[1], reverse= True)"
   ]
  }
 ],
 "metadata": {
  "colab": {
   "collapsed_sections": [],
   "name": "LDA with non-stem query data V1.ipynb",
   "provenance": [],
   "toc_visible": true
  },
  "kernelspec": {
   "display_name": "Python 3 (ipykernel)",
   "language": "python",
   "name": "python3"
  },
  "language_info": {
   "codemirror_mode": {
    "name": "ipython",
    "version": 3
   },
   "file_extension": ".py",
   "mimetype": "text/x-python",
   "name": "python",
   "nbconvert_exporter": "python",
   "pygments_lexer": "ipython3",
   "version": "3.9.7"
  }
 },
 "nbformat": 4,
 "nbformat_minor": 4
}
